{
 "cells": [
  {
   "cell_type": "markdown",
   "metadata": {},
   "source": [
    "### read required .npy files"
   ]
  },
  {
   "cell_type": "code",
   "execution_count": 1,
   "metadata": {},
   "outputs": [],
   "source": [
    "import numpy as np"
   ]
  },
  {
   "cell_type": "code",
   "execution_count": 3,
   "metadata": {},
   "outputs": [],
   "source": [
    "# Load the .npy array\n",
    "eyes_closed_motor_imagery = np.load(r'C:\\Users\\akash\\PycharmProjects\\Brainflow-bci\\dataset_user_akash_1_1_24\\eyes_closed_motor_imagery\\eyes_closed_motor_imagery.npy')\n",
    "eyes_opened_motor_imagery = np.load(r'C:\\Users\\akash\\PycharmProjects\\Brainflow-bci\\dataset_user_akash_1_1_24\\eyes_opened_motor_imagery\\eyes_opened_motor_imagery.npy')\n",
    "eyes_opened = np.load(r'C:\\Users\\akash\\PycharmProjects\\Brainflow-bci\\dataset_user_akash_1_1_24\\eyes_opened\\eyes_opened.npy')\n",
    "eyes_closed = np.load(r'C:\\Users\\akash\\PycharmProjects\\Brainflow-bci\\dataset_user_akash_1_1_24\\eyes_closed\\eyes_closed.npy')\n"
   ]
  },
  {
   "cell_type": "code",
   "execution_count": 4,
   "metadata": {},
   "outputs": [
    {
     "name": "stdout",
     "output_type": "stream",
     "text": [
      "Shape of the eyes_closed_motor_imagery: (84, 401, 4)\n",
      "Shape of the eyes_opened_motor_imagery: (112, 401, 4)\n",
      "Shape of the eyes_opened: (70, 401, 4)\n",
      "Shape of the eyes_closed: (70, 401, 4)\n"
     ]
    }
   ],
   "source": [
    "# shape of the arrays\n",
    "print(f\"Shape of the eyes_closed_motor_imagery: {eyes_closed_motor_imagery.shape}\")\n",
    "print(f\"Shape of the eyes_opened_motor_imagery: {eyes_opened_motor_imagery.shape}\")\n",
    "print(f\"Shape of the eyes_opened: {eyes_opened.shape}\")\n",
    "print(f\"Shape of the eyes_closed: {eyes_closed.shape}\")"
   ]
  },
  {
   "cell_type": "code",
   "execution_count": 9,
   "metadata": {},
   "outputs": [
    {
     "data": {
      "text/plain": [
       "(336, 401, 4)"
      ]
     },
     "execution_count": 9,
     "metadata": {},
     "output_type": "execute_result"
    }
   ],
   "source": [
    "X = np.concatenate((eyes_closed_motor_imagery, eyes_opened_motor_imagery), axis=0)\n",
    "X = np.concatenate((X, eyes_opened), axis=0)\n",
    "X = np.concatenate((X, eyes_closed), axis=0)\n",
    "X.shape"
   ]
  },
  {
   "cell_type": "markdown",
   "metadata": {},
   "source": [
    "### create Ys"
   ]
  },
  {
   "cell_type": "code",
   "execution_count": 10,
   "metadata": {},
   "outputs": [],
   "source": [
    "# eyes_closed_motor_imagery_Y = lable code 1\n",
    "# eyes_opened_motor_imagery_Y = lable code 2\n",
    "# eyes_opened_Y = lable code 3\n",
    "# eyes_closed_Y = lable code 4\n",
    "\n",
    "eyes_closed_motor_imagery_Y = np.full((84,), 1)\n",
    "eyes_opened_motor_imagery_Y = np.full((112,), 2)\n",
    "eyes_opened_Y = np.full((70,), 3)\n",
    "eyes_closed_Y = np.full((70,), 4)"
   ]
  },
  {
   "cell_type": "code",
   "execution_count": 16,
   "metadata": {},
   "outputs": [
    {
     "data": {
      "text/plain": [
       "(336,)"
      ]
     },
     "execution_count": 16,
     "metadata": {},
     "output_type": "execute_result"
    }
   ],
   "source": [
    "Y = np.concatenate((eyes_closed_motor_imagery_Y, eyes_opened_motor_imagery_Y), axis=0)\n",
    "Y = np.concatenate((Y, eyes_opened_Y), axis=0)\n",
    "Y = np.concatenate((Y, eyes_closed_Y), axis=0)\n",
    "Y.shape"
   ]
  },
  {
   "cell_type": "code",
   "execution_count": null,
   "metadata": {},
   "outputs": [],
   "source": []
  }
 ],
 "metadata": {
  "kernelspec": {
   "display_name": ".venv",
   "language": "python",
   "name": "python3"
  },
  "language_info": {
   "codemirror_mode": {
    "name": "ipython",
    "version": 3
   },
   "file_extension": ".py",
   "mimetype": "text/x-python",
   "name": "python",
   "nbconvert_exporter": "python",
   "pygments_lexer": "ipython3",
   "version": "3.10.2"
  }
 },
 "nbformat": 4,
 "nbformat_minor": 2
}
