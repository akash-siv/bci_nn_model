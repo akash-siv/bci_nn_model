{
 "cells": [
  {
   "cell_type": "markdown",
   "id": "efb65b70-f0bd-4412-8436-01f0aef00d07",
   "metadata": {},
   "source": [
    "### Import statement"
   ]
  },
  {
   "cell_type": "code",
   "execution_count": 7,
   "id": "54b1c82d-865a-442f-aa0b-740da769c893",
   "metadata": {
    "tags": []
   },
   "outputs": [],
   "source": [
    "import numpy as np\n",
    "import tensorflow as tf\n",
    "from tensorflow import keras\n",
    "import pandas as pd\n",
    "from sklearn.model_selection import train_test_split "
   ]
  },
  {
   "cell_type": "markdown",
   "id": "ddca8596-41bd-424b-b872-7afc1647d692",
   "metadata": {},
   "source": [
    "### Loding the data"
   ]
  },
  {
   "cell_type": "code",
   "execution_count": 5,
   "id": "d6c1ad7b-b78c-4004-b5d5-72e04dedb534",
   "metadata": {
    "tags": []
   },
   "outputs": [],
   "source": [
    "X = np.load('X_5sec.npy')\n",
    "y = np.load(\"y_5sec.npy\")"
   ]
  },
  {
   "cell_type": "markdown",
   "id": "a2bef836-120d-49ff-90b5-afff7285068a",
   "metadata": {},
   "source": [
    "### Train test Split"
   ]
  },
  {
   "cell_type": "code",
   "execution_count": 8,
   "id": "a4f998ba-3ccf-4793-9c95-25e063b14676",
   "metadata": {
    "tags": []
   },
   "outputs": [],
   "source": [
    "X_train, X_test, y_train, y_test = train_test_split(X, y, test_size= 0.2, random_state= 3)"
   ]
  },
  {
   "cell_type": "code",
   "execution_count": 10,
   "id": "0623c135-88e1-4368-9046-9d3ae6ca126d",
   "metadata": {
    "tags": []
   },
   "outputs": [
    {
     "name": "stdout",
     "output_type": "stream",
     "text": [
      "X_train.shape : (316, 501, 4)\n",
      "y_train.shape : (316,)\n",
      "X_test.shape : (79, 501, 4)\n",
      "y_test.shape : (79,)\n"
     ]
    }
   ],
   "source": [
    "print(f\"X_train.shape : {X_train.shape}\")\n",
    "print(f\"y_train.shape : {y_train.shape}\")\n",
    "print(f\"X_test.shape : {X_test.shape}\")\n",
    "print(f\"y_test.shape : {y_test.shape}\")\n"
   ]
  },
  {
   "cell_type": "markdown",
   "id": "3064b39a-689b-4fe4-8bd1-07e4b5d2a3f5",
   "metadata": {},
   "source": [
    "### Model"
   ]
  },
  {
   "cell_type": "code",
   "execution_count": 4,
   "id": "37d7d0be-0ae5-4358-ab53-25a5305fc251",
   "metadata": {
    "tags": []
   },
   "outputs": [
    {
     "name": "stdout",
     "output_type": "stream",
     "text": [
      "WARNING:tensorflow:From C:\\Users\\akash\\AppData\\Roaming\\Python\\Python311\\site-packages\\keras\\src\\optimizers\\__init__.py:309: The name tf.train.Optimizer is deprecated. Please use tf.compat.v1.train.Optimizer instead.\n",
      "\n"
     ]
    }
   ],
   "source": [
    "model = keras.Sequential()\n",
    "model.add(\n",
    "    keras.layers.Bidirectional(\n",
    "      keras.layers.LSTM(\n",
    "          units=128,\n",
    "          input_shape=[X_train.shape[1], X_train.shape[2]]\n",
    "      )\n",
    "    )\n",
    ")\n",
    "model.add(keras.layers.Dropout(rate=0.5))\n",
    "model.add(keras.layers.Dense(units=128, activation='relu'))\n",
    "model.add(keras.layers.Dense(y_train.shape[0], activation='softmax'))\n",
    "model.compile(loss='categorical_crossentropy', optimizer='adam', metrics=['acc'])"
   ]
  },
  {
   "cell_type": "code",
   "execution_count": null,
   "id": "b95dc5ba-7b3a-4380-87e6-491ec298898e",
   "metadata": {},
   "outputs": [],
   "source": []
  }
 ],
 "metadata": {
  "kernelspec": {
   "display_name": "Python 3 (ipykernel)",
   "language": "python",
   "name": "python3"
  },
  "language_info": {
   "codemirror_mode": {
    "name": "ipython",
    "version": 3
   },
   "file_extension": ".py",
   "mimetype": "text/x-python",
   "name": "python",
   "nbconvert_exporter": "python",
   "pygments_lexer": "ipython3",
   "version": "3.11.4"
  }
 },
 "nbformat": 4,
 "nbformat_minor": 5
}
