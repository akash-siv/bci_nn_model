{
 "cells": [
  {
   "cell_type": "markdown",
   "id": "a6bd12a7-de10-4640-a79a-5dbe60165144",
   "metadata": {},
   "source": [
    "## Importing Libraries"
   ]
  },
  {
   "cell_type": "code",
   "execution_count": 2,
   "id": "6f41898f-f45e-4797-8c34-43df3d5ed4c9",
   "metadata": {
    "tags": []
   },
   "outputs": [],
   "source": [
    "import time\n",
    "from pprint import pprint\n",
    "\n",
    "%matplotlib inline\n",
    "import matplotlib\n",
    "import numpy as np\n",
    "import pandas as pd\n",
    "import os"
   ]
  },
  {
   "cell_type": "markdown",
   "id": "c8ae45d9-8277-4055-8a1b-9429b78a8eeb",
   "metadata": {},
   "source": [
    "## Finding all the class folder path"
   ]
  },
  {
   "cell_type": "code",
   "execution_count": 6,
   "id": "80b29041-e91a-4cbe-906d-7434f7f3a12b",
   "metadata": {
    "tags": []
   },
   "outputs": [
    {
     "name": "stdout",
     "output_type": "stream",
     "text": [
      "Directories in dataset_user_akash_1_1_24 : ['dataset_user_akash_1_1_24\\\\eyes_blink', 'dataset_user_akash_1_1_24\\\\eyes_closed', 'dataset_user_akash_1_1_24\\\\eyes_closed_motor_imagery', 'dataset_user_akash_1_1_24\\\\eyes_closed_movement', 'dataset_user_akash_1_1_24\\\\eyes_opened', 'dataset_user_akash_1_1_24\\\\eyes_opened_motor_imagery', 'dataset_user_akash_1_1_24\\\\eyes_opened_movement', 'dataset_user_akash_1_1_24\\\\physical_motor_activation']\n"
     ]
    }
   ],
   "source": [
    "def list_class_paths(folder_path):\n",
    "    \"\"\"\n",
    "    Lists all directory paths in the specified folder.\n",
    "\n",
    "    Parameters:\n",
    "    - folder_path (str): The path to the folder.\n",
    "\n",
    "    Returns:\n",
    "    - directory_paths (list): List of full directory paths.\n",
    "    \"\"\"\n",
    "\n",
    "    directory_paths = [os.path.join(folder_path, d) for d in os.listdir(folder_path) if os.path.isdir(os.path.join(folder_path, d))]\n",
    "    return directory_paths\n",
    "\n",
    "\n",
    "# Path of your dataset\n",
    "dataset_path = 'dataset_user_akash_1_1_24'\n",
    "class_paths = list_class_paths(dataset_path)\n",
    "\n",
    "print(\"Directories in\", dataset_path, \":\", class_paths)\n"
   ]
  },
  {
   "cell_type": "markdown",
   "id": "2b249ea7-b01c-44bb-9843-5d3ba8d19620",
   "metadata": {},
   "source": [
    "## Find all the csv paths in a folder"
   ]
  },
  {
   "cell_type": "code",
   "execution_count": 7,
   "id": "fd6cce68-747e-4acf-a983-f0027004a5d0",
   "metadata": {
    "tags": []
   },
   "outputs": [],
   "source": [
    "def list_csv_file_path(directory_path):\n",
    "    \"\"\"\n",
    "    Lists all CSV path in the specified directory.\n",
    "\n",
    "    Parameters:\n",
    "    - directory_path (str): The path to the directory.\n",
    "\n",
    "    Returns:\n",
    "    - csv_files (list): List of CSV file path.\n",
    "    \"\"\"\n",
    "\n",
    "    is_csv_file = lambda file: file.endswith('.csv') and os.path.isfile(os.path.join(directory_path, file))\n",
    "    csv_paths = [os.path.join(directory_path, file) for file in os.listdir(directory_path) if is_csv_file(file)]\n",
    "    return csv_paths\n"
   ]
  },
  {
   "cell_type": "markdown",
   "id": "123f3c13-3c78-4400-8c46-f44b0ed6a319",
   "metadata": {},
   "source": [
    "## combine all the csv into one"
   ]
  },
  {
   "cell_type": "code",
   "execution_count": 8,
   "id": "18cf89a4-bb1b-4443-af71-78778acb09b3",
   "metadata": {
    "tags": []
   },
   "outputs": [
    {
     "ename": "NameError",
     "evalue": "name 'folder_path' is not defined",
     "output_type": "error",
     "traceback": [
      "\u001b[1;31m---------------------------------------------------------------------------\u001b[0m",
      "\u001b[1;31mNameError\u001b[0m                                 Traceback (most recent call last)",
      "Cell \u001b[1;32mIn[8], line 10\u001b[0m\n\u001b[0;32m      8\u001b[0m \u001b[38;5;66;03m# Iterate through each CSV file, append its data to the combined DataFrame, and add a 'folder_path' column\u001b[39;00m\n\u001b[0;32m      9\u001b[0m \u001b[38;5;28;01mfor\u001b[39;00m file \u001b[38;5;129;01min\u001b[39;00m csv_files:\n\u001b[1;32m---> 10\u001b[0m     file_path \u001b[38;5;241m=\u001b[39m os\u001b[38;5;241m.\u001b[39mpath\u001b[38;5;241m.\u001b[39mjoin(folder_path, file)\n\u001b[0;32m     11\u001b[0m     df \u001b[38;5;241m=\u001b[39m pd\u001b[38;5;241m.\u001b[39mread_csv(file_path)\n\u001b[0;32m     13\u001b[0m     \u001b[38;5;66;03m# Add a new column 'folder_path' with the current folder_path\u001b[39;00m\n",
      "\u001b[1;31mNameError\u001b[0m: name 'folder_path' is not defined"
     ]
    }
   ],
   "source": [
    "for class_dir in class_paths:\n",
    "    # csv_path_list = list_csv_file_path(class_dir)\n",
    "    csv_files = [file for file in os.listdir(class_dir) if file.endswith('.csv')]\n",
    "\n",
    "    # Initialize an empty list to store DataFrames with folder_path added\n",
    "    dfs_with_folder_path = []\n",
    "\n",
    "    # Iterate through each CSV file, append its data to the combined DataFrame, and add a 'folder_path' column\n",
    "    for file in csv_files:\n",
    "        file_path = os.path.join(class_dir, file)\n",
    "        df = pd.read_csv(file_path)\n",
    "\n",
    "        # Add a new column 'folder_path' with the current folder_path\n",
    "        df['folder_path'] = folder_path.split(\"/\")[-1]\n",
    "\n",
    "        # Append the DataFrame to the list\n",
    "        dfs_with_folder_path.append(df)\n",
    "\n",
    "    # Combine all DataFrames into one DataFrame\n",
    "    combined_data = pd.concat(dfs_with_folder_path, ignore_index=True)\n",
    "\n",
    "    # Save the combined data to a new CSV file\n",
    "    combined_data.to_csv('combined_data_with_folder_path.csv', index=False)\n",
    "    "
   ]
  },
  {
   "cell_type": "code",
   "execution_count": null,
   "id": "c4992ef3-6e4d-46e4-a73d-08824e7a3a91",
   "metadata": {},
   "outputs": [],
   "source": []
  }
 ],
 "metadata": {
  "kernelspec": {
   "display_name": "Python 3 (ipykernel)",
   "language": "python",
   "name": "python3"
  },
  "language_info": {
   "codemirror_mode": {
    "name": "ipython",
    "version": 3
   },
   "file_extension": ".py",
   "mimetype": "text/x-python",
   "name": "python",
   "nbconvert_exporter": "python",
   "pygments_lexer": "ipython3",
   "version": "3.11.4"
  }
 },
 "nbformat": 4,
 "nbformat_minor": 5
}
