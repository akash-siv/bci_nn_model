{
  "cells": [
    {
      "cell_type": "markdown",
      "metadata": {
        "id": "QvZQRXOdhg0P"
      },
      "source": [
        "## Setup"
      ]
    },
    {
      "cell_type": "code",
      "execution_count": 1,
      "metadata": {},
      "outputs": [
        {
          "name": "stdout",
          "output_type": "stream",
          "text": [
            "WARNING:tensorflow:From c:\\Users\\akash\\Downloads\\projects\\BCI_research\\model\\.venv\\lib\\site-packages\\keras\\src\\losses.py:2976: The name tf.losses.sparse_softmax_cross_entropy is deprecated. Please use tf.compat.v1.losses.sparse_softmax_cross_entropy instead.\n",
            "\n",
            "2.15.0\n"
          ]
        }
      ],
      "source": [
        "import keras\n",
        "print(keras.__version__)"
      ]
    },
    {
      "cell_type": "code",
      "execution_count": 1,
      "metadata": {
        "id": "xyf0rqp8hg0P"
      },
      "outputs": [
        {
          "name": "stdout",
          "output_type": "stream",
          "text": [
            "WARNING:tensorflow:From c:\\Users\\akash\\Downloads\\projects\\BCI_research\\model\\.venv\\lib\\site-packages\\keras\\src\\losses.py:2976: The name tf.losses.sparse_softmax_cross_entropy is deprecated. Please use tf.compat.v1.losses.sparse_softmax_cross_entropy instead.\n",
            "\n"
          ]
        }
      ],
      "source": [
        "import keras\n",
        "from keras.models import Sequential\n",
        "from keras.layers import Dense, InputLayer, Dropout, Conv1D, Conv2D, Flatten, Reshape, MaxPooling1D, MaxPooling2D, AveragePooling2D, BatchNormalization, Permute, ReLU, Softmax\n",
        "from keras.optimizers.legacy import Adam\n",
        "import numpy as np\n",
        "import matplotlib.pyplot as plt\n",
        "import pandas as pd\n",
        "import time\n"
      ]
    },
    {
      "cell_type": "markdown",
      "metadata": {},
      "source": [
        "### Load Dataset"
      ]
    },
    {
      "cell_type": "code",
      "execution_count": 2,
      "metadata": {
        "id": "J-sWXPOKhg0R"
      },
      "outputs": [
        {
          "name": "stdout",
          "output_type": "stream",
          "text": [
            "   count    channel_1   channel_2   channel_3   channel_4  acc_x  acc_y  \\\n",
            "0  101.0 -1009.670141 -393.942362 -930.014012 -308.921346    0.0    0.0   \n",
            "1  101.0  -999.179721 -378.260961 -911.722161 -313.925332    0.0    0.0   \n",
            "2  102.0  -985.618844 -377.640138 -923.992773 -321.749203    0.0    0.0   \n",
            "3  102.0  -997.747340 -395.423362 -938.873835 -323.286302    0.0    0.0   \n",
            "4  103.0  -999.497613 -407.675274 -941.001838 -320.163485    0.0    0.0   \n",
            "\n",
            "   acc_z  resistance_1  resistance_2  resistance_3  resistance_4  \\\n",
            "0    0.0           0.0           0.0           0.0           0.0   \n",
            "1    0.0           0.0           0.0           0.0           0.0   \n",
            "2    0.0           0.0           0.0           0.0           0.0   \n",
            "3    0.0           0.0           0.0           0.0           0.0   \n",
            "4    0.0           0.0           0.0           0.0           0.0   \n",
            "\n",
            "   resistance_5     timestamp  marker       class  \n",
            "0           0.0  1.704024e+09     0.0  eyes_blink  \n",
            "1           0.0  1.704024e+09     0.0  eyes_blink  \n",
            "2           0.0  1.704024e+09     0.0  eyes_blink  \n",
            "3           0.0  1.704024e+09     0.0  eyes_blink  \n",
            "4           0.0  1.704024e+09     0.0  eyes_blink  \n",
            "<class 'pandas.core.frame.DataFrame'>\n"
          ]
        }
      ],
      "source": [
        "\n",
        "\n",
        "# Load the CSV file into a pandas DataFrame\n",
        "df = pd.read_csv('data.csv')\n",
        "\n",
        "# Now you can work with the data, for example, print the first few rows\n",
        "print(df.head())\n",
        "print(type(df))"
      ]
    },
    {
      "cell_type": "markdown",
      "metadata": {},
      "source": [
        "### remove unwanted columns"
      ]
    },
    {
      "cell_type": "code",
      "execution_count": 3,
      "metadata": {},
      "outputs": [
        {
          "name": "stdout",
          "output_type": "stream",
          "text": [
            "Original DataFrame:\n",
            "        count    channel_1   channel_2   channel_3   channel_4  acc_x  acc_y  \\\n",
            "0       101.0 -1009.670141 -393.942362 -930.014012 -308.921346    0.0    0.0   \n",
            "1       101.0  -999.179721 -378.260961 -911.722161 -313.925332    0.0    0.0   \n",
            "2       102.0  -985.618844 -377.640138 -923.992773 -321.749203    0.0    0.0   \n",
            "3       102.0  -997.747340 -395.423362 -938.873835 -323.286302    0.0    0.0   \n",
            "4       103.0  -999.497613 -407.675274 -941.001838 -320.163485    0.0    0.0   \n",
            "...       ...          ...         ...         ...         ...    ...    ...   \n",
            "427046  163.0  -698.319730   92.964563   -5.252689  -57.966579    0.0    0.0   \n",
            "427047  164.0  -735.782307   -2.036376  -62.196406 -125.920562    0.0    0.0   \n",
            "427048  164.0  -759.089364  -58.763178  -92.340000 -159.751697    0.0    0.0   \n",
            "427049  165.0  -717.879406   36.473374  -33.522593  -90.739323    0.0    0.0   \n",
            "427050  165.0  -699.123808   93.458230   -7.044102  -55.195313    0.0    0.0   \n",
            "\n",
            "        acc_z  resistance_1  resistance_2  resistance_3  resistance_4  \\\n",
            "0         0.0           0.0           0.0           0.0           0.0   \n",
            "1         0.0           0.0           0.0           0.0           0.0   \n",
            "2         0.0           0.0           0.0           0.0           0.0   \n",
            "3         0.0           0.0           0.0           0.0           0.0   \n",
            "4         0.0           0.0           0.0           0.0           0.0   \n",
            "...       ...           ...           ...           ...           ...   \n",
            "427046    0.0           0.0           0.0           0.0           0.0   \n",
            "427047    0.0           0.0           0.0           0.0           0.0   \n",
            "427048    0.0           0.0           0.0           0.0           0.0   \n",
            "427049    0.0           0.0           0.0           0.0           0.0   \n",
            "427050    0.0           0.0           0.0           0.0           0.0   \n",
            "\n",
            "        resistance_5     timestamp  marker                      class  \n",
            "0                0.0  1.704024e+09     0.0                 eyes_blink  \n",
            "1                0.0  1.704024e+09     0.0                 eyes_blink  \n",
            "2                0.0  1.704024e+09     0.0                 eyes_blink  \n",
            "3                0.0  1.704024e+09     0.0                 eyes_blink  \n",
            "4                0.0  1.704024e+09     0.0                 eyes_blink  \n",
            "...              ...           ...     ...                        ...  \n",
            "427046           0.0  1.704118e+09     0.0  physical_motor_activation  \n",
            "427047           0.0  1.704118e+09     0.0  physical_motor_activation  \n",
            "427048           0.0  1.704118e+09     0.0  physical_motor_activation  \n",
            "427049           0.0  1.704118e+09     0.0  physical_motor_activation  \n",
            "427050           0.0  1.704118e+09     0.0  physical_motor_activation  \n",
            "\n",
            "[427051 rows x 16 columns]\n",
            "\n",
            "DataFrame after removing specified columns:\n",
            "          channel_1   channel_2   channel_3   channel_4  \\\n",
            "0      -1009.670141 -393.942362 -930.014012 -308.921346   \n",
            "1       -999.179721 -378.260961 -911.722161 -313.925332   \n",
            "2       -985.618844 -377.640138 -923.992773 -321.749203   \n",
            "3       -997.747340 -395.423362 -938.873835 -323.286302   \n",
            "4       -999.497613 -407.675274 -941.001838 -320.163485   \n",
            "...             ...         ...         ...         ...   \n",
            "427046  -698.319730   92.964563   -5.252689  -57.966579   \n",
            "427047  -735.782307   -2.036376  -62.196406 -125.920562   \n",
            "427048  -759.089364  -58.763178  -92.340000 -159.751697   \n",
            "427049  -717.879406   36.473374  -33.522593  -90.739323   \n",
            "427050  -699.123808   93.458230   -7.044102  -55.195313   \n",
            "\n",
            "                            class  \n",
            "0                      eyes_blink  \n",
            "1                      eyes_blink  \n",
            "2                      eyes_blink  \n",
            "3                      eyes_blink  \n",
            "4                      eyes_blink  \n",
            "...                           ...  \n",
            "427046  physical_motor_activation  \n",
            "427047  physical_motor_activation  \n",
            "427048  physical_motor_activation  \n",
            "427049  physical_motor_activation  \n",
            "427050  physical_motor_activation  \n",
            "\n",
            "[427051 rows x 5 columns]\n"
          ]
        }
      ],
      "source": [
        "# df = pd.DataFrame(data)\n",
        "\n",
        "print(\"Original DataFrame:\")\n",
        "print(df)\n",
        "\n",
        "# Specify the columns you want to remove\n",
        "columns_to_remove = ['count', 'acc_x','acc_y', 'acc_z', 'resistance_1', 'resistance_2', 'resistance_3', 'resistance_4', 'resistance_5', 'timestamp', 'marker']\n",
        "\n",
        "# Removing specified columns\n",
        "df = df.drop(columns_to_remove, axis=1)\n",
        "\n",
        "print(\"\\nDataFrame after removing specified columns:\")\n",
        "print(df)"
      ]
    },
    {
      "cell_type": "markdown",
      "metadata": {},
      "source": [
        "## EDA"
      ]
    },
    {
      "cell_type": "code",
      "execution_count": 4,
      "metadata": {},
      "outputs": [
        {
          "data": {
            "image/png": "[encoded data removed]",
            "text/plain": [
              "<Figure size 640x480 with 1 Axes>"
            ]
          },
          "metadata": {},
          "output_type": "display_data"
        }
      ],
      "source": [
        "# Assuming you have a dataframe named df with a column named 'Class'\n",
        "# Count the number of classes\n",
        "class_counts = df['class'].value_counts()\n",
        "\n",
        "# Create pie chart\n",
        "fig, ax = plt.subplots()\n",
        "ax.pie(class_counts, labels=class_counts.index, autopct='%1.1f%%')\n",
        "ax.axis('equal')  # Equal aspect ratio ensures that pie is drawn as a circle.\n",
        "\n",
        "plt.show()"
      ]
    },
    {
      "cell_type": "markdown",
      "metadata": {},
      "source": [
        "### get only required classes"
      ]
    },
    {
      "cell_type": "code",
      "execution_count": 5,
      "metadata": {},
      "outputs": [
        {
          "name": "stdout",
          "output_type": "stream",
          "text": [
            "<bound method NDFrame.head of          channel_1   channel_2   channel_3   channel_4  \\\n",
            "11894  -634.363700  216.115729 -485.345517   50.299784   \n",
            "11895  -629.980538  203.171935 -493.947287   60.255398   \n",
            "11896  -607.234466  215.906294 -482.196521   70.368088   \n",
            "11897  -627.074635  231.591435 -475.846171   57.442993   \n",
            "11898  -635.885840  208.879022 -495.267471   46.410289   \n",
            "...            ...         ...         ...         ...   \n",
            "321821 -481.321384  287.740423  114.003370  146.882701   \n",
            "321822 -539.431950  161.832951   28.823409   46.324271   \n",
            "321823 -527.266055  197.833228   61.652251   82.979030   \n",
            "321824 -455.856406  332.899715  154.599984  194.682362   \n",
            "321825 -489.272412  287.639445  115.820962  154.138107   \n",
            "\n",
            "                            class  \n",
            "11894                 eyes_closed  \n",
            "11895                 eyes_closed  \n",
            "11896                 eyes_closed  \n",
            "11897                 eyes_closed  \n",
            "11898                 eyes_closed  \n",
            "...                           ...  \n",
            "321821  eyes_opened_motor_imagery  \n",
            "321822  eyes_opened_motor_imagery  \n",
            "321823  eyes_opened_motor_imagery  \n",
            "321824  eyes_opened_motor_imagery  \n",
            "321825  eyes_opened_motor_imagery  \n",
            "\n",
            "[214643 rows x 5 columns]>\n"
          ]
        }
      ],
      "source": [
        "\n",
        "# import pandas as pd\n",
        "\n",
        "# Assuming you have a dataframe `df` and you want to drop rows where `class` column has value `specific_value`\n",
        "\n",
        "df = df[df['class'] != 'eyes_blink']\n",
        "df = df[df['class'] != 'eyes_opened_movement']\n",
        "df = df[df['class'] != 'eyes_closed_movement']\n",
        "# df = df[df['class'] != 'eyes_closed']\n",
        "df = df[df['class'] != 'eyes_closed_motor_imagery']\n",
        "df = df[df['class'] != 'physical_motor_activation']\n",
        "print(df.head)\n"
      ]
    },
    {
      "cell_type": "code",
      "execution_count": 6,
      "metadata": {},
      "outputs": [],
      "source": [
        "df.loc[df['class'] == 'eyes_opened', 'class'] = 'eyes_static'\n",
        "df.loc[df['class'] == 'eyes_closed', 'class'] = 'eyes_static'"
      ]
    },
    {
      "cell_type": "code",
      "execution_count": 7,
      "metadata": {},
      "outputs": [
        {
          "data": {
            "image/png": "[encoded data removed]",
            "text/plain": [
              "<Figure size 640x480 with 1 Axes>"
            ]
          },
          "metadata": {},
          "output_type": "display_data"
        }
      ],
      "source": [
        "class_counts = df['class'].value_counts()\n",
        "\n",
        "# Create pie chart\n",
        "fig, ax = plt.subplots()\n",
        "ax.pie(class_counts, labels=class_counts.index, autopct='%1.1f%%')\n",
        "ax.axis('equal')  # Equal aspect ratio ensures that pie is drawn as a circle.\n",
        "\n",
        "plt.show()"
      ]
    },
    {
      "cell_type": "code",
      "execution_count": 8,
      "metadata": {},
      "outputs": [
        {
          "data": {
            "text/plain": [
              "(214643, 5)"
            ]
          },
          "execution_count": 8,
          "metadata": {},
          "output_type": "execute_result"
        }
      ],
      "source": [
        "df.shape"
      ]
    },
    {
      "cell_type": "code",
      "execution_count": 9,
      "metadata": {},
      "outputs": [
        {
          "name": "stdout",
          "output_type": "stream",
          "text": [
            "<class 'pandas.core.frame.DataFrame'>\n",
            "Index: 214643 entries, 11894 to 321825\n",
            "Data columns (total 5 columns):\n",
            " #   Column     Non-Null Count   Dtype  \n",
            "---  ------     --------------   -----  \n",
            " 0   channel_1  214643 non-null  float64\n",
            " 1   channel_2  214643 non-null  float64\n",
            " 2   channel_3  214643 non-null  float64\n",
            " 3   channel_4  214643 non-null  float64\n",
            " 4   class      214643 non-null  object \n",
            "dtypes: float64(4), object(1)\n",
            "memory usage: 9.8+ MB\n"
          ]
        }
      ],
      "source": [
        "df.info()"
      ]
    },
    {
      "cell_type": "code",
      "execution_count": 10,
      "metadata": {},
      "outputs": [
        {
          "data": {
            "text/plain": [
              "channel_1    0\n",
              "channel_2    0\n",
              "channel_3    0\n",
              "channel_4    0\n",
              "class        0\n",
              "dtype: int64"
            ]
          },
          "execution_count": 10,
          "metadata": {},
          "output_type": "execute_result"
        }
      ],
      "source": [
        "df.isnull().sum()"
      ]
    },
    {
      "cell_type": "code",
      "execution_count": 11,
      "metadata": {},
      "outputs": [
        {
          "data": {
            "text/plain": [
              "class\n",
              "eyes_static                  119486\n",
              "eyes_opened_motor_imagery     95157\n",
              "Name: count, dtype: int64"
            ]
          },
          "execution_count": 11,
          "metadata": {},
          "output_type": "execute_result"
        }
      ],
      "source": [
        "df['class'].value_counts()"
      ]
    },
    {
      "cell_type": "code",
      "execution_count": 8,
      "metadata": {},
      "outputs": [],
      "source": [
        "eyes_static = df[df['class']=='eyes_static'].head(95157).copy()\n",
        "eyes_opened_motor_imagery = df[df['class']=='eyes_opened_motor_imagery'].head(95157).copy()\n"
      ]
    },
    {
      "cell_type": "code",
      "execution_count": 9,
      "metadata": {},
      "outputs": [
        {
          "data": {
            "text/plain": [
              "(190314, 5)"
            ]
          },
          "execution_count": 9,
          "metadata": {},
          "output_type": "execute_result"
        }
      ],
      "source": [
        "balanced_data = pd.DataFrame()\n",
        "balanced_data = pd.concat([balanced_data, eyes_opened_motor_imagery, eyes_static], ignore_index=True)\n",
        "balanced_data.shape"
      ]
    },
    {
      "cell_type": "code",
      "execution_count": 10,
      "metadata": {},
      "outputs": [
        {
          "data": {
            "text/html": [
              "<div>\n",
              "<style scoped>\n",
              "    .dataframe tbody tr th:only-of-type {\n",
              "        vertical-align: middle;\n",
              "    }\n",
              "\n",
              "    .dataframe tbody tr th {\n",
              "        vertical-align: top;\n",
              "    }\n",
              "\n",
              "    .dataframe thead th {\n",
              "        text-align: right;\n",
              "    }\n",
              "</style>\n",
              "<table border=\"1\" class=\"dataframe\">\n",
              "  <thead>\n",
              "    <tr style=\"text-align: right;\">\n",
              "      <th></th>\n",
              "      <th>channel_1</th>\n",
              "      <th>channel_2</th>\n",
              "      <th>channel_3</th>\n",
              "      <th>channel_4</th>\n",
              "      <th>class</th>\n",
              "      <th>label</th>\n",
              "    </tr>\n",
              "  </thead>\n",
              "  <tbody>\n",
              "    <tr>\n",
              "      <th>0</th>\n",
              "      <td>-1025.366501</td>\n",
              "      <td>-589.965478</td>\n",
              "      <td>-1094.107732</td>\n",
              "      <td>-501.597252</td>\n",
              "      <td>eyes_opened_motor_imagery</td>\n",
              "      <td>0</td>\n",
              "    </tr>\n",
              "    <tr>\n",
              "      <th>1</th>\n",
              "      <td>-1018.062476</td>\n",
              "      <td>-581.580622</td>\n",
              "      <td>-1092.020868</td>\n",
              "      <td>-499.674943</td>\n",
              "      <td>eyes_opened_motor_imagery</td>\n",
              "      <td>0</td>\n",
              "    </tr>\n",
              "    <tr>\n",
              "      <th>2</th>\n",
              "      <td>-1024.315589</td>\n",
              "      <td>-590.597521</td>\n",
              "      <td>-1104.388717</td>\n",
              "      <td>-506.212289</td>\n",
              "      <td>eyes_opened_motor_imagery</td>\n",
              "      <td>0</td>\n",
              "    </tr>\n",
              "    <tr>\n",
              "      <th>3</th>\n",
              "      <td>-1005.750726</td>\n",
              "      <td>-588.447079</td>\n",
              "      <td>-1103.891310</td>\n",
              "      <td>-494.360546</td>\n",
              "      <td>eyes_opened_motor_imagery</td>\n",
              "      <td>0</td>\n",
              "    </tr>\n",
              "    <tr>\n",
              "      <th>4</th>\n",
              "      <td>-1009.845916</td>\n",
              "      <td>-588.349841</td>\n",
              "      <td>-1094.290987</td>\n",
              "      <td>-489.023708</td>\n",
              "      <td>eyes_opened_motor_imagery</td>\n",
              "      <td>0</td>\n",
              "    </tr>\n",
              "  </tbody>\n",
              "</table>\n",
              "</div>"
            ],
            "text/plain": [
              "     channel_1   channel_2    channel_3   channel_4  \\\n",
              "0 -1025.366501 -589.965478 -1094.107732 -501.597252   \n",
              "1 -1018.062476 -581.580622 -1092.020868 -499.674943   \n",
              "2 -1024.315589 -590.597521 -1104.388717 -506.212289   \n",
              "3 -1005.750726 -588.447079 -1103.891310 -494.360546   \n",
              "4 -1009.845916 -588.349841 -1094.290987 -489.023708   \n",
              "\n",
              "                       class  label  \n",
              "0  eyes_opened_motor_imagery      0  \n",
              "1  eyes_opened_motor_imagery      0  \n",
              "2  eyes_opened_motor_imagery      0  \n",
              "3  eyes_opened_motor_imagery      0  \n",
              "4  eyes_opened_motor_imagery      0  "
            ]
          },
          "execution_count": 10,
          "metadata": {},
          "output_type": "execute_result"
        }
      ],
      "source": [
        "from sklearn.preprocessing import LabelEncoder\n",
        "label = LabelEncoder()\n",
        "balanced_data['label'] = label.fit_transform(balanced_data['class'])\n",
        "balanced_data.head()"
      ]
    },
    {
      "cell_type": "code",
      "execution_count": 11,
      "metadata": {},
      "outputs": [],
      "source": [
        "X = balanced_data[['channel_1', 'channel_2', 'channel_3', 'channel_4']]\n",
        "y = balanced_data['label']"
      ]
    },
    {
      "cell_type": "code",
      "execution_count": 13,
      "metadata": {},
      "outputs": [
        {
          "data": {
            "text/html": [
              "<div>\n",
              "<style scoped>\n",
              "    .dataframe tbody tr th:only-of-type {\n",
              "        vertical-align: middle;\n",
              "    }\n",
              "\n",
              "    .dataframe tbody tr th {\n",
              "        vertical-align: top;\n",
              "    }\n",
              "\n",
              "    .dataframe thead th {\n",
              "        text-align: right;\n",
              "    }\n",
              "</style>\n",
              "<table border=\"1\" class=\"dataframe\">\n",
              "  <thead>\n",
              "    <tr style=\"text-align: right;\">\n",
              "      <th></th>\n",
              "      <th>channel_1</th>\n",
              "      <th>channel_2</th>\n",
              "      <th>channel_3</th>\n",
              "      <th>channel_4</th>\n",
              "    </tr>\n",
              "  </thead>\n",
              "  <tbody>\n",
              "    <tr>\n",
              "      <th>0</th>\n",
              "      <td>-1025.366501</td>\n",
              "      <td>-589.965478</td>\n",
              "      <td>-1094.107732</td>\n",
              "      <td>-501.597252</td>\n",
              "    </tr>\n",
              "    <tr>\n",
              "      <th>1</th>\n",
              "      <td>-1018.062476</td>\n",
              "      <td>-581.580622</td>\n",
              "      <td>-1092.020868</td>\n",
              "      <td>-499.674943</td>\n",
              "    </tr>\n",
              "    <tr>\n",
              "      <th>2</th>\n",
              "      <td>-1024.315589</td>\n",
              "      <td>-590.597521</td>\n",
              "      <td>-1104.388717</td>\n",
              "      <td>-506.212289</td>\n",
              "    </tr>\n",
              "    <tr>\n",
              "      <th>3</th>\n",
              "      <td>-1005.750726</td>\n",
              "      <td>-588.447079</td>\n",
              "      <td>-1103.891310</td>\n",
              "      <td>-494.360546</td>\n",
              "    </tr>\n",
              "    <tr>\n",
              "      <th>4</th>\n",
              "      <td>-1009.845916</td>\n",
              "      <td>-588.349841</td>\n",
              "      <td>-1094.290987</td>\n",
              "      <td>-489.023708</td>\n",
              "    </tr>\n",
              "    <tr>\n",
              "      <th>...</th>\n",
              "      <td>...</td>\n",
              "      <td>...</td>\n",
              "      <td>...</td>\n",
              "      <td>...</td>\n",
              "    </tr>\n",
              "    <tr>\n",
              "      <th>190309</th>\n",
              "      <td>-801.956097</td>\n",
              "      <td>17.487772</td>\n",
              "      <td>-578.280161</td>\n",
              "      <td>-12.156545</td>\n",
              "    </tr>\n",
              "    <tr>\n",
              "      <th>190310</th>\n",
              "      <td>-792.299676</td>\n",
              "      <td>30.334329</td>\n",
              "      <td>-569.955143</td>\n",
              "      <td>-17.283948</td>\n",
              "    </tr>\n",
              "    <tr>\n",
              "      <th>190311</th>\n",
              "      <td>-795.444931</td>\n",
              "      <td>11.242139</td>\n",
              "      <td>-594.997514</td>\n",
              "      <td>-34.756760</td>\n",
              "    </tr>\n",
              "    <tr>\n",
              "      <th>190312</th>\n",
              "      <td>-779.210026</td>\n",
              "      <td>-3.968034</td>\n",
              "      <td>-609.590603</td>\n",
              "      <td>-10.802701</td>\n",
              "    </tr>\n",
              "    <tr>\n",
              "      <th>190313</th>\n",
              "      <td>-810.696243</td>\n",
              "      <td>15.225133</td>\n",
              "      <td>-580.389464</td>\n",
              "      <td>-12.844686</td>\n",
              "    </tr>\n",
              "  </tbody>\n",
              "</table>\n",
              "<p>190314 rows × 4 columns</p>\n",
              "</div>"
            ],
            "text/plain": [
              "          channel_1   channel_2    channel_3   channel_4\n",
              "0      -1025.366501 -589.965478 -1094.107732 -501.597252\n",
              "1      -1018.062476 -581.580622 -1092.020868 -499.674943\n",
              "2      -1024.315589 -590.597521 -1104.388717 -506.212289\n",
              "3      -1005.750726 -588.447079 -1103.891310 -494.360546\n",
              "4      -1009.845916 -588.349841 -1094.290987 -489.023708\n",
              "...             ...         ...          ...         ...\n",
              "190309  -801.956097   17.487772  -578.280161  -12.156545\n",
              "190310  -792.299676   30.334329  -569.955143  -17.283948\n",
              "190311  -795.444931   11.242139  -594.997514  -34.756760\n",
              "190312  -779.210026   -3.968034  -609.590603  -10.802701\n",
              "190313  -810.696243   15.225133  -580.389464  -12.844686\n",
              "\n",
              "[190314 rows x 4 columns]"
            ]
          },
          "execution_count": 13,
          "metadata": {},
          "output_type": "execute_result"
        }
      ],
      "source": [
        "X"
      ]
    },
    {
      "cell_type": "markdown",
      "metadata": {},
      "source": [
        "### Standardized data"
      ]
    },
    {
      "cell_type": "code",
      "execution_count": 17,
      "metadata": {},
      "outputs": [
        {
          "data": {
            "text/html": [
              "<div>\n",
              "<style scoped>\n",
              "    .dataframe tbody tr th:only-of-type {\n",
              "        vertical-align: middle;\n",
              "    }\n",
              "\n",
              "    .dataframe tbody tr th {\n",
              "        vertical-align: top;\n",
              "    }\n",
              "\n",
              "    .dataframe thead th {\n",
              "        text-align: right;\n",
              "    }\n",
              "</style>\n",
              "<table border=\"1\" class=\"dataframe\">\n",
              "  <thead>\n",
              "    <tr style=\"text-align: right;\">\n",
              "      <th></th>\n",
              "      <th>channel_1</th>\n",
              "      <th>channel_2</th>\n",
              "      <th>channel_3</th>\n",
              "      <th>channel_4</th>\n",
              "      <th>label</th>\n",
              "    </tr>\n",
              "  </thead>\n",
              "  <tbody>\n",
              "    <tr>\n",
              "      <th>0</th>\n",
              "      <td>-1.395937</td>\n",
              "      <td>-1.560658</td>\n",
              "      <td>-1.275400</td>\n",
              "      <td>-1.533250</td>\n",
              "      <td>0</td>\n",
              "    </tr>\n",
              "    <tr>\n",
              "      <th>1</th>\n",
              "      <td>-1.363410</td>\n",
              "      <td>-1.537233</td>\n",
              "      <td>-1.270710</td>\n",
              "      <td>-1.526287</td>\n",
              "      <td>0</td>\n",
              "    </tr>\n",
              "    <tr>\n",
              "      <th>2</th>\n",
              "      <td>-1.391257</td>\n",
              "      <td>-1.562424</td>\n",
              "      <td>-1.298505</td>\n",
              "      <td>-1.549968</td>\n",
              "      <td>0</td>\n",
              "    </tr>\n",
              "    <tr>\n",
              "      <th>3</th>\n",
              "      <td>-1.308581</td>\n",
              "      <td>-1.556416</td>\n",
              "      <td>-1.297388</td>\n",
              "      <td>-1.507035</td>\n",
              "      <td>0</td>\n",
              "    </tr>\n",
              "    <tr>\n",
              "      <th>4</th>\n",
              "      <td>-1.326819</td>\n",
              "      <td>-1.556145</td>\n",
              "      <td>-1.275812</td>\n",
              "      <td>-1.487703</td>\n",
              "      <td>0</td>\n",
              "    </tr>\n",
              "    <tr>\n",
              "      <th>...</th>\n",
              "      <td>...</td>\n",
              "      <td>...</td>\n",
              "      <td>...</td>\n",
              "      <td>...</td>\n",
              "      <td>...</td>\n",
              "    </tr>\n",
              "    <tr>\n",
              "      <th>190309</th>\n",
              "      <td>-0.401017</td>\n",
              "      <td>0.136461</td>\n",
              "      <td>-0.116146</td>\n",
              "      <td>0.239723</td>\n",
              "      <td>1</td>\n",
              "    </tr>\n",
              "    <tr>\n",
              "      <th>190310</th>\n",
              "      <td>-0.358014</td>\n",
              "      <td>0.172352</td>\n",
              "      <td>-0.097437</td>\n",
              "      <td>0.221149</td>\n",
              "      <td>1</td>\n",
              "    </tr>\n",
              "    <tr>\n",
              "      <th>190311</th>\n",
              "      <td>-0.372021</td>\n",
              "      <td>0.119012</td>\n",
              "      <td>-0.153716</td>\n",
              "      <td>0.157855</td>\n",
              "      <td>1</td>\n",
              "    </tr>\n",
              "    <tr>\n",
              "      <th>190312</th>\n",
              "      <td>-0.299721</td>\n",
              "      <td>0.076517</td>\n",
              "      <td>-0.186512</td>\n",
              "      <td>0.244627</td>\n",
              "      <td>1</td>\n",
              "    </tr>\n",
              "    <tr>\n",
              "      <th>190313</th>\n",
              "      <td>-0.439940</td>\n",
              "      <td>0.130140</td>\n",
              "      <td>-0.120886</td>\n",
              "      <td>0.237230</td>\n",
              "      <td>1</td>\n",
              "    </tr>\n",
              "  </tbody>\n",
              "</table>\n",
              "<p>190314 rows × 5 columns</p>\n",
              "</div>"
            ],
            "text/plain": [
              "        channel_1  channel_2  channel_3  channel_4  label\n",
              "0       -1.395937  -1.560658  -1.275400  -1.533250      0\n",
              "1       -1.363410  -1.537233  -1.270710  -1.526287      0\n",
              "2       -1.391257  -1.562424  -1.298505  -1.549968      0\n",
              "3       -1.308581  -1.556416  -1.297388  -1.507035      0\n",
              "4       -1.326819  -1.556145  -1.275812  -1.487703      0\n",
              "...           ...        ...        ...        ...    ...\n",
              "190309  -0.401017   0.136461  -0.116146   0.239723      1\n",
              "190310  -0.358014   0.172352  -0.097437   0.221149      1\n",
              "190311  -0.372021   0.119012  -0.153716   0.157855      1\n",
              "190312  -0.299721   0.076517  -0.186512   0.244627      1\n",
              "190313  -0.439940   0.130140  -0.120886   0.237230      1\n",
              "\n",
              "[190314 rows x 5 columns]"
            ]
          },
          "execution_count": 17,
          "metadata": {},
          "output_type": "execute_result"
        }
      ],
      "source": [
        "# # Todo : standardize after train test split\n",
        "# from sklearn.preprocessing import StandardScaler\n",
        "# scaler = StandardScaler()\n",
        "# X = scaler.fit_transform(X)\n",
        "\n",
        "# scaled_X = pd.DataFrame(data = X, columns = ['channel_1', 'channel_2', 'channel_3', 'channel_4'])\n",
        "# scaled_X['label'] = y.values\n",
        "\n",
        "# scaled_X"
      ]
    },
    {
      "cell_type": "markdown",
      "metadata": {},
      "source": [
        "### Frame preparation\n"
      ]
    },
    {
      "cell_type": "code",
      "execution_count": 12,
      "metadata": {},
      "outputs": [],
      "source": [
        "import scipy.stats as stats"
      ]
    },
    {
      "cell_type": "code",
      "execution_count": 14,
      "metadata": {},
      "outputs": [],
      "source": [
        "Fs = 200\n",
        "frame_size = Fs*4 # 80\n",
        "hop_size = Fs*2 # 40"
      ]
    },
    {
      "cell_type": "code",
      "execution_count": 15,
      "metadata": {},
      "outputs": [],
      "source": [
        "def get_frames(df, frame_size, hop_size):\n",
        "\n",
        "    N_FEATURES = 4\n",
        "\n",
        "    frames = []\n",
        "    labels = []\n",
        "    for i in range(0, len(df) - frame_size, hop_size):\n",
        "        channel_1 = df['channel_1'].values[i: i + frame_size]\n",
        "        channel_2 = df['channel_2'].values[i: i + frame_size]\n",
        "        channel_3 = df['channel_3'].values[i: i + frame_size]\n",
        "        channel_4 = df['channel_4'].values[i: i + frame_size]\n",
        "        \n",
        "        # Retrieve the most often used label in this segment\n",
        "        label = stats.mode(df['label'][i: i + frame_size])[0]\n",
        "        # print(label)\n",
        "        frames.append([channel_1, channel_2, channel_3, channel_4])\n",
        "        labels.append(label)\n",
        "\n",
        "    # Bring the segments into a better shape\n",
        "    frames = np.asarray(frames).reshape(-1, frame_size, N_FEATURES)\n",
        "    labels = np.asarray(labels)\n",
        "\n",
        "    return frames, labels"
      ]
    },
    {
      "cell_type": "code",
      "execution_count": 16,
      "metadata": {},
      "outputs": [
        {
          "name": "stderr",
          "output_type": "stream",
          "text": [
            "C:\\Users\\akash\\AppData\\Local\\Temp\\ipykernel_17288\\696042435.py:1: SettingWithCopyWarning: \n",
            "A value is trying to be set on a copy of a slice from a DataFrame.\n",
            "Try using .loc[row_indexer,col_indexer] = value instead\n",
            "\n",
            "See the caveats in the documentation: https://pandas.pydata.org/pandas-docs/stable/user_guide/indexing.html#returning-a-view-versus-a-copy\n",
            "  X['label'] = y.values\n"
          ]
        },
        {
          "data": {
            "text/html": [
              "<div>\n",
              "<style scoped>\n",
              "    .dataframe tbody tr th:only-of-type {\n",
              "        vertical-align: middle;\n",
              "    }\n",
              "\n",
              "    .dataframe tbody tr th {\n",
              "        vertical-align: top;\n",
              "    }\n",
              "\n",
              "    .dataframe thead th {\n",
              "        text-align: right;\n",
              "    }\n",
              "</style>\n",
              "<table border=\"1\" class=\"dataframe\">\n",
              "  <thead>\n",
              "    <tr style=\"text-align: right;\">\n",
              "      <th></th>\n",
              "      <th>channel_1</th>\n",
              "      <th>channel_2</th>\n",
              "      <th>channel_3</th>\n",
              "      <th>channel_4</th>\n",
              "      <th>label</th>\n",
              "    </tr>\n",
              "  </thead>\n",
              "  <tbody>\n",
              "    <tr>\n",
              "      <th>0</th>\n",
              "      <td>-1025.366501</td>\n",
              "      <td>-589.965478</td>\n",
              "      <td>-1094.107732</td>\n",
              "      <td>-501.597252</td>\n",
              "      <td>0</td>\n",
              "    </tr>\n",
              "    <tr>\n",
              "      <th>1</th>\n",
              "      <td>-1018.062476</td>\n",
              "      <td>-581.580622</td>\n",
              "      <td>-1092.020868</td>\n",
              "      <td>-499.674943</td>\n",
              "      <td>0</td>\n",
              "    </tr>\n",
              "    <tr>\n",
              "      <th>2</th>\n",
              "      <td>-1024.315589</td>\n",
              "      <td>-590.597521</td>\n",
              "      <td>-1104.388717</td>\n",
              "      <td>-506.212289</td>\n",
              "      <td>0</td>\n",
              "    </tr>\n",
              "    <tr>\n",
              "      <th>3</th>\n",
              "      <td>-1005.750726</td>\n",
              "      <td>-588.447079</td>\n",
              "      <td>-1103.891310</td>\n",
              "      <td>-494.360546</td>\n",
              "      <td>0</td>\n",
              "    </tr>\n",
              "    <tr>\n",
              "      <th>4</th>\n",
              "      <td>-1009.845916</td>\n",
              "      <td>-588.349841</td>\n",
              "      <td>-1094.290987</td>\n",
              "      <td>-489.023708</td>\n",
              "      <td>0</td>\n",
              "    </tr>\n",
              "    <tr>\n",
              "      <th>...</th>\n",
              "      <td>...</td>\n",
              "      <td>...</td>\n",
              "      <td>...</td>\n",
              "      <td>...</td>\n",
              "      <td>...</td>\n",
              "    </tr>\n",
              "    <tr>\n",
              "      <th>190309</th>\n",
              "      <td>-801.956097</td>\n",
              "      <td>17.487772</td>\n",
              "      <td>-578.280161</td>\n",
              "      <td>-12.156545</td>\n",
              "      <td>1</td>\n",
              "    </tr>\n",
              "    <tr>\n",
              "      <th>190310</th>\n",
              "      <td>-792.299676</td>\n",
              "      <td>30.334329</td>\n",
              "      <td>-569.955143</td>\n",
              "      <td>-17.283948</td>\n",
              "      <td>1</td>\n",
              "    </tr>\n",
              "    <tr>\n",
              "      <th>190311</th>\n",
              "      <td>-795.444931</td>\n",
              "      <td>11.242139</td>\n",
              "      <td>-594.997514</td>\n",
              "      <td>-34.756760</td>\n",
              "      <td>1</td>\n",
              "    </tr>\n",
              "    <tr>\n",
              "      <th>190312</th>\n",
              "      <td>-779.210026</td>\n",
              "      <td>-3.968034</td>\n",
              "      <td>-609.590603</td>\n",
              "      <td>-10.802701</td>\n",
              "      <td>1</td>\n",
              "    </tr>\n",
              "    <tr>\n",
              "      <th>190313</th>\n",
              "      <td>-810.696243</td>\n",
              "      <td>15.225133</td>\n",
              "      <td>-580.389464</td>\n",
              "      <td>-12.844686</td>\n",
              "      <td>1</td>\n",
              "    </tr>\n",
              "  </tbody>\n",
              "</table>\n",
              "<p>190314 rows × 5 columns</p>\n",
              "</div>"
            ],
            "text/plain": [
              "          channel_1   channel_2    channel_3   channel_4  label\n",
              "0      -1025.366501 -589.965478 -1094.107732 -501.597252      0\n",
              "1      -1018.062476 -581.580622 -1092.020868 -499.674943      0\n",
              "2      -1024.315589 -590.597521 -1104.388717 -506.212289      0\n",
              "3      -1005.750726 -588.447079 -1103.891310 -494.360546      0\n",
              "4      -1009.845916 -588.349841 -1094.290987 -489.023708      0\n",
              "...             ...         ...          ...         ...    ...\n",
              "190309  -801.956097   17.487772  -578.280161  -12.156545      1\n",
              "190310  -792.299676   30.334329  -569.955143  -17.283948      1\n",
              "190311  -795.444931   11.242139  -594.997514  -34.756760      1\n",
              "190312  -779.210026   -3.968034  -609.590603  -10.802701      1\n",
              "190313  -810.696243   15.225133  -580.389464  -12.844686      1\n",
              "\n",
              "[190314 rows x 5 columns]"
            ]
          },
          "execution_count": 16,
          "metadata": {},
          "output_type": "execute_result"
        }
      ],
      "source": [
        "X['label'] = y.values\n",
        "X"
      ]
    },
    {
      "cell_type": "code",
      "execution_count": 17,
      "metadata": {},
      "outputs": [],
      "source": [
        "X, y = get_frames(X, frame_size, hop_size)"
      ]
    },
    {
      "cell_type": "code",
      "execution_count": 18,
      "metadata": {},
      "outputs": [
        {
          "data": {
            "text/plain": [
              "((474, 800, 4), (474,))"
            ]
          },
          "execution_count": 18,
          "metadata": {},
          "output_type": "execute_result"
        }
      ],
      "source": [
        "X.shape, y.shape"
      ]
    },
    {
      "cell_type": "markdown",
      "metadata": {},
      "source": [
        "### Train test split"
      ]
    },
    {
      "cell_type": "code",
      "execution_count": 22,
      "metadata": {},
      "outputs": [],
      "source": [
        "from sklearn.model_selection import train_test_split\n",
        "x_train, x_test, y_train, y_test = train_test_split(X, y, test_size = 0.2, random_state = 27, stratify = y)"
      ]
    },
    {
      "cell_type": "code",
      "execution_count": 23,
      "metadata": {},
      "outputs": [
        {
          "data": {
            "text/plain": [
              "((379, 800, 4), (95, 800, 4), (379,), (95,))"
            ]
          },
          "execution_count": 23,
          "metadata": {},
          "output_type": "execute_result"
        }
      ],
      "source": [
        "x_train.shape, x_test.shape, y_train.shape, y_test.shape"
      ]
    },
    {
      "cell_type": "code",
      "execution_count": 24,
      "metadata": {},
      "outputs": [
        {
          "name": "stdout",
          "output_type": "stream",
          "text": [
            "2\n"
          ]
        }
      ],
      "source": [
        "num_classes = len(np.unique(y_train))\n",
        "print(num_classes)"
      ]
    },
    {
      "cell_type": "code",
      "execution_count": 26,
      "metadata": {},
      "outputs": [],
      "source": [
        "# dont know what it does so try to remove this\n",
        "# idx = np.random.permutation(len(x_train))\n",
        "# x_train = x_train[idx]\n",
        "# y_train = y_train[idx]\n",
        "# print(idx)\n",
        "# print(type(idx))\n",
        "# print(idx.shape)"
      ]
    },
    {
      "cell_type": "code",
      "execution_count": 25,
      "metadata": {},
      "outputs": [
        {
          "name": "stdout",
          "output_type": "stream",
          "text": [
            "(379, 800, 4)\n",
            "(379,)\n"
          ]
        }
      ],
      "source": [
        "print(x_train.shape)\n",
        "print(y_train.shape)"
      ]
    },
    {
      "cell_type": "code",
      "execution_count": 26,
      "metadata": {},
      "outputs": [
        {
          "name": "stdout",
          "output_type": "stream",
          "text": [
            "2.15.0\n"
          ]
        }
      ],
      "source": [
        "print(keras.__version__)"
      ]
    },
    {
      "cell_type": "markdown",
      "metadata": {
        "id": "gLky0IVfhg0U"
      },
      "source": [
        "## Build a model\n",
        "\n",
        "We build a Fully Convolutional Neural Network originally proposed in\n",
        "[this paper](https://arxiv.org/abs/1611.06455).\n",
        "The implementation is based on the TF 2 version provided\n",
        "[here](https://github.com/hfawaz/dl-4-tsc/).\n",
        "The following hyperparameters (kernel_size, filters, the usage of BatchNorm) were found\n",
        "via random search using [KerasTuner](https://github.com/keras-team/keras-tuner)."
      ]
    },
    {
      "cell_type": "code",
      "execution_count": 40,
      "metadata": {
        "colab": {
          "base_uri": "https://localhost:8080/",
          "height": 1000
        },
        "id": "wrHt8uy4hg0U",
        "outputId": "7042ab5f-ae6d-405e-f2df-6f74295ba7cc"
      },
      "outputs": [
        {
          "data": {
            "image/png": "[encoded data removed]",
            "text/plain": [
              "<IPython.core.display.Image object>"
            ]
          },
          "execution_count": 40,
          "metadata": {},
          "output_type": "execute_result"
        }
      ],
      "source": [
        "\n",
        "# def make_model(input_shape):\n",
        "#     input_layer = keras.layers.Input(input_shape)\n",
        "\n",
        "#     conv1 = keras.layers.Conv1D(filters=64, kernel_size=3, padding=\"same\")(input_layer)\n",
        "#     conv1 = keras.layers.BatchNormalization()(conv1)\n",
        "#     conv1 = keras.layers.ReLU()(conv1)\n",
        "\n",
        "#     conv2 = keras.layers.Conv1D(filters=64, kernel_size=3, padding=\"same\")(conv1)\n",
        "#     conv2 = keras.layers.BatchNormalization()(conv2)\n",
        "#     conv2 = keras.layers.ReLU()(conv2)\n",
        "\n",
        "#     conv3 = keras.layers.Conv1D(filters=64, kernel_size=3, padding=\"same\")(conv2)\n",
        "#     conv3 = keras.layers.BatchNormalization()(conv3)\n",
        "#     conv3 = keras.layers.ReLU()(conv3)\n",
        "\n",
        "#     gap = keras.layers.GlobalAveragePooling1D()(conv3)\n",
        "#     mlp_vector = keras.layers.Dropout(0.2)(gap)\n",
        "\n",
        "#     output_layer = keras.layers.Dense(num_classes, activation=\"softmax\")(mlp_vector)\n",
        "\n",
        "#     return keras.models.Model(inputs=input_layer, outputs=output_layer)\n",
        "\n",
        "\n",
        "# model = make_model(input_shape=x_train.shape[1:])\n",
        "# keras.utils.plot_model(model, show_shapes=True)"
      ]
    },
    {
      "cell_type": "markdown",
      "metadata": {},
      "source": [
        "### Model Architecture 2"
      ]
    },
    {
      "cell_type": "code",
      "execution_count": 27,
      "metadata": {},
      "outputs": [
        {
          "name": "stdout",
          "output_type": "stream",
          "text": [
            "WARNING:tensorflow:From c:\\Users\\akash\\Downloads\\projects\\BCI_research\\model\\.venv\\lib\\site-packages\\keras\\src\\backend.py:873: The name tf.get_default_graph is deprecated. Please use tf.compat.v1.get_default_graph instead.\n",
            "\n",
            "WARNING:tensorflow:From c:\\Users\\akash\\Downloads\\projects\\BCI_research\\model\\.venv\\lib\\site-packages\\keras\\src\\engine\\base_layer_utils.py:384: The name tf.executing_eagerly_outside_functions is deprecated. Please use tf.compat.v1.executing_eagerly_outside_functions instead.\n",
            "\n",
            "WARNING:tensorflow:From c:\\Users\\akash\\Downloads\\projects\\BCI_research\\model\\.venv\\lib\\site-packages\\keras\\src\\optimizers\\__init__.py:309: The name tf.train.Optimizer is deprecated. Please use tf.compat.v1.train.Optimizer instead.\n",
            "\n",
            "Model: \"sequential\"\n",
            "_________________________________________________________________\n",
            " Layer (type)                Output Shape              Param #   \n",
            "=================================================================\n",
            " flatten (Flatten)           (None, 3200)              0         \n",
            "                                                                 \n",
            " dense (Dense)               (None, 20)                64020     \n",
            "                                                                 \n",
            " dense_1 (Dense)             (None, 10)                210       \n",
            "                                                                 \n",
            " dense_2 (Dense)             (None, 1)                 11        \n",
            "                                                                 \n",
            "=================================================================\n",
            "Total params: 64241 (250.94 KB)\n",
            "Trainable params: 64241 (250.94 KB)\n",
            "Non-trainable params: 0 (0.00 Byte)\n",
            "_________________________________________________________________\n"
          ]
        }
      ],
      "source": [
        "# new model architecture\n",
        "# Define the model\n",
        "model = Sequential()\n",
        "\n",
        "# Flatten the input data (assuming each sample is a 2D array of shape (800, 4))\n",
        "model.add(Flatten(input_shape=(800, 4)))\n",
        "\n",
        "# Add a dense layer with 64 units and relu activation\n",
        "model.add(Dense(20, activation='relu',\n",
        "            activity_regularizer=keras.regularizers.l1(0.00001)))\n",
        "\n",
        "# Add output layer with 1 unit (assuming binary classification) and sigmoid activation\n",
        "model.add(Dense(10, activation='relu',\n",
        "            activity_regularizer=keras.regularizers.l1(0.00001)))\n",
        "\n",
        "# Added praveen layer\n",
        "model.add(Dense(1, activation='sigmoid'))\n",
        "\n",
        "# Compile the model\n",
        "model.compile(optimizer='adam', loss='binary_crossentropy', metrics=['accuracy'])\n",
        "\n",
        "# Print the model summary\n",
        "model.summary()"
      ]
    },
    {
      "cell_type": "code",
      "execution_count": 28,
      "metadata": {},
      "outputs": [
        {
          "name": "stdout",
          "output_type": "stream",
          "text": [
            "Epoch 1/10\n",
            "WARNING:tensorflow:From c:\\Users\\akash\\Downloads\\projects\\BCI_research\\model\\.venv\\lib\\site-packages\\keras\\src\\utils\\tf_utils.py:492: The name tf.ragged.RaggedTensorValue is deprecated. Please use tf.compat.v1.ragged.RaggedTensorValue instead.\n",
            "\n",
            "10/10 [==============================] - 3s 87ms/step - loss: 122.0793 - accuracy: 0.7030 - val_loss: 0.2397 - val_accuracy: 0.9868\n",
            "Epoch 2/10\n",
            "10/10 [==============================] - 0s 8ms/step - loss: 0.4114 - accuracy: 0.9934 - val_loss: 2.4594 - val_accuracy: 0.9868\n",
            "Epoch 3/10\n",
            "10/10 [==============================] - 0s 14ms/step - loss: 0.1612 - accuracy: 1.0000 - val_loss: 3.3749 - val_accuracy: 0.9868\n",
            "Epoch 4/10\n",
            "10/10 [==============================] - 0s 13ms/step - loss: 0.1674 - accuracy: 1.0000 - val_loss: 3.5892 - val_accuracy: 0.9868\n",
            "Epoch 5/10\n",
            "10/10 [==============================] - 0s 11ms/step - loss: 0.1694 - accuracy: 1.0000 - val_loss: 3.6679 - val_accuracy: 0.9868\n",
            "Epoch 6/10\n",
            "10/10 [==============================] - 0s 16ms/step - loss: 0.1699 - accuracy: 1.0000 - val_loss: 3.6941 - val_accuracy: 0.9868\n",
            "Epoch 7/10\n",
            "10/10 [==============================] - 0s 9ms/step - loss: 0.1697 - accuracy: 1.0000 - val_loss: 3.6999 - val_accuracy: 0.9868\n",
            "Epoch 8/10\n",
            "10/10 [==============================] - 0s 19ms/step - loss: 0.1692 - accuracy: 1.0000 - val_loss: 3.6977 - val_accuracy: 0.9868\n",
            "Epoch 9/10\n",
            "10/10 [==============================] - 0s 10ms/step - loss: 0.1686 - accuracy: 1.0000 - val_loss: 3.6922 - val_accuracy: 0.9868\n",
            "Epoch 10/10\n",
            "10/10 [==============================] - 0s 17ms/step - loss: 0.1678 - accuracy: 1.0000 - val_loss: 3.6851 - val_accuracy: 0.9868\n"
          ]
        },
        {
          "data": {
            "text/plain": [
              "<keras.src.callbacks.History at 0x1ca0a4ab0d0>"
            ]
          },
          "execution_count": 28,
          "metadata": {},
          "output_type": "execute_result"
        }
      ],
      "source": [
        "# Assuming x_train is your input data and y_train is your target labels\n",
        "model.fit(x_train, y_train, epochs=10, batch_size=32, validation_split=0.2)\n"
      ]
    },
    {
      "cell_type": "code",
      "execution_count": 29,
      "metadata": {},
      "outputs": [
        {
          "name": "stderr",
          "output_type": "stream",
          "text": [
            "c:\\Users\\akash\\Downloads\\projects\\BCI_research\\model\\.venv\\lib\\site-packages\\keras\\src\\engine\\training.py:3103: UserWarning: You are saving your model as an HDF5 file via `model.save()`. This file format is considered legacy. We recommend using instead the native Keras format, e.g. `model.save('my_model.keras')`.\n",
            "  saving_api.save_model(\n"
          ]
        }
      ],
      "source": [
        "# Save the model\n",
        "model.save(\"my_model.h5\")"
      ]
    },
    {
      "cell_type": "code",
      "execution_count": null,
      "metadata": {},
      "outputs": [],
      "source": []
    },
    {
      "cell_type": "code",
      "execution_count": null,
      "metadata": {},
      "outputs": [],
      "source": []
    },
    {
      "cell_type": "markdown",
      "metadata": {
        "id": "g_I8WuKMhg0U"
      },
      "source": [
        "## Train the model architecture 1"
      ]
    },
    {
      "cell_type": "code",
      "execution_count": 30,
      "metadata": {
        "id": "Fe231jIvhg0U"
      },
      "outputs": [
        {
          "name": "stdout",
          "output_type": "stream",
          "text": [
            "WARNING:tensorflow:From c:\\Users\\akash\\Downloads\\projects\\BCI_research\\model\\.venv\\lib\\site-packages\\keras\\src\\optimizers\\__init__.py:309: The name tf.train.Optimizer is deprecated. Please use tf.compat.v1.train.Optimizer instead.\n",
            "\n"
          ]
        },
        {
          "name": "stdout",
          "output_type": "stream",
          "text": [
            "Epoch 1/50\n",
            "WARNING:tensorflow:From c:\\Users\\akash\\Downloads\\projects\\BCI_research\\model\\.venv\\lib\\site-packages\\keras\\src\\engine\\base_layer_utils.py:384: The name tf.executing_eagerly_outside_functions is deprecated. Please use tf.compat.v1.executing_eagerly_outside_functions instead.\n",
            "\n",
            "WARNING:tensorflow:From c:\\Users\\akash\\Downloads\\projects\\BCI_research\\model\\.venv\\lib\\site-packages\\keras\\src\\utils\\tf_utils.py:492: The name tf.ragged.RaggedTensorValue is deprecated. Please use tf.compat.v1.ragged.RaggedTensorValue instead.\n",
            "\n"
          ]
        },
        {
          "ename": "InvalidArgumentError",
          "evalue": "Graph execution error:\n\nDetected at node sparse_categorical_crossentropy/SparseSoftmaxCrossEntropyWithLogits/SparseSoftmaxCrossEntropyWithLogits defined at (most recent call last):\n  File \"C:\\Users\\akash\\AppData\\Local\\Programs\\Python\\Python310\\lib\\runpy.py\", line 196, in _run_module_as_main\n\n  File \"C:\\Users\\akash\\AppData\\Local\\Programs\\Python\\Python310\\lib\\runpy.py\", line 86, in _run_code\n\n  File \"c:\\Users\\akash\\Downloads\\projects\\BCI_research\\model\\.venv\\lib\\site-packages\\ipykernel_launcher.py\", line 17, in <module>\n\n  File \"c:\\Users\\akash\\Downloads\\projects\\BCI_research\\model\\.venv\\lib\\site-packages\\traitlets\\config\\application.py\", line 1075, in launch_instance\n\n  File \"c:\\Users\\akash\\Downloads\\projects\\BCI_research\\model\\.venv\\lib\\site-packages\\ipykernel\\kernelapp.py\", line 739, in start\n\n  File \"c:\\Users\\akash\\Downloads\\projects\\BCI_research\\model\\.venv\\lib\\site-packages\\tornado\\platform\\asyncio.py\", line 205, in start\n\n  File \"C:\\Users\\akash\\AppData\\Local\\Programs\\Python\\Python310\\lib\\asyncio\\base_events.py\", line 595, in run_forever\n\n  File \"C:\\Users\\akash\\AppData\\Local\\Programs\\Python\\Python310\\lib\\asyncio\\base_events.py\", line 1881, in _run_once\n\n  File \"C:\\Users\\akash\\AppData\\Local\\Programs\\Python\\Python310\\lib\\asyncio\\events.py\", line 80, in _run\n\n  File \"c:\\Users\\akash\\Downloads\\projects\\BCI_research\\model\\.venv\\lib\\site-packages\\ipykernel\\kernelbase.py\", line 542, in dispatch_queue\n\n  File \"c:\\Users\\akash\\Downloads\\projects\\BCI_research\\model\\.venv\\lib\\site-packages\\ipykernel\\kernelbase.py\", line 531, in process_one\n\n  File \"c:\\Users\\akash\\Downloads\\projects\\BCI_research\\model\\.venv\\lib\\site-packages\\ipykernel\\kernelbase.py\", line 437, in dispatch_shell\n\n  File \"c:\\Users\\akash\\Downloads\\projects\\BCI_research\\model\\.venv\\lib\\site-packages\\ipykernel\\ipkernel.py\", line 359, in execute_request\n\n  File \"c:\\Users\\akash\\Downloads\\projects\\BCI_research\\model\\.venv\\lib\\site-packages\\ipykernel\\kernelbase.py\", line 775, in execute_request\n\n  File \"c:\\Users\\akash\\Downloads\\projects\\BCI_research\\model\\.venv\\lib\\site-packages\\ipykernel\\ipkernel.py\", line 446, in do_execute\n\n  File \"c:\\Users\\akash\\Downloads\\projects\\BCI_research\\model\\.venv\\lib\\site-packages\\ipykernel\\zmqshell.py\", line 549, in run_cell\n\n  File \"c:\\Users\\akash\\Downloads\\projects\\BCI_research\\model\\.venv\\lib\\site-packages\\IPython\\core\\interactiveshell.py\", line 3051, in run_cell\n\n  File \"c:\\Users\\akash\\Downloads\\projects\\BCI_research\\model\\.venv\\lib\\site-packages\\IPython\\core\\interactiveshell.py\", line 3106, in _run_cell\n\n  File \"c:\\Users\\akash\\Downloads\\projects\\BCI_research\\model\\.venv\\lib\\site-packages\\IPython\\core\\async_helpers.py\", line 129, in _pseudo_sync_runner\n\n  File \"c:\\Users\\akash\\Downloads\\projects\\BCI_research\\model\\.venv\\lib\\site-packages\\IPython\\core\\interactiveshell.py\", line 3311, in run_cell_async\n\n  File \"c:\\Users\\akash\\Downloads\\projects\\BCI_research\\model\\.venv\\lib\\site-packages\\IPython\\core\\interactiveshell.py\", line 3493, in run_ast_nodes\n\n  File \"c:\\Users\\akash\\Downloads\\projects\\BCI_research\\model\\.venv\\lib\\site-packages\\IPython\\core\\interactiveshell.py\", line 3553, in run_code\n\n  File \"C:\\Users\\akash\\AppData\\Local\\Temp\\ipykernel_6056\\4009029205.py\", line 18, in <module>\n\n  File \"c:\\Users\\akash\\Downloads\\projects\\BCI_research\\model\\.venv\\lib\\site-packages\\keras\\src\\utils\\traceback_utils.py\", line 65, in error_handler\n\n  File \"c:\\Users\\akash\\Downloads\\projects\\BCI_research\\model\\.venv\\lib\\site-packages\\keras\\src\\engine\\training.py\", line 1807, in fit\n\n  File \"c:\\Users\\akash\\Downloads\\projects\\BCI_research\\model\\.venv\\lib\\site-packages\\keras\\src\\engine\\training.py\", line 1401, in train_function\n\n  File \"c:\\Users\\akash\\Downloads\\projects\\BCI_research\\model\\.venv\\lib\\site-packages\\keras\\src\\engine\\training.py\", line 1384, in step_function\n\n  File \"c:\\Users\\akash\\Downloads\\projects\\BCI_research\\model\\.venv\\lib\\site-packages\\keras\\src\\engine\\training.py\", line 1373, in run_step\n\n  File \"c:\\Users\\akash\\Downloads\\projects\\BCI_research\\model\\.venv\\lib\\site-packages\\keras\\src\\engine\\training.py\", line 1151, in train_step\n\n  File \"c:\\Users\\akash\\Downloads\\projects\\BCI_research\\model\\.venv\\lib\\site-packages\\keras\\src\\engine\\training.py\", line 1209, in compute_loss\n\n  File \"c:\\Users\\akash\\Downloads\\projects\\BCI_research\\model\\.venv\\lib\\site-packages\\keras\\src\\engine\\compile_utils.py\", line 277, in __call__\n\n  File \"c:\\Users\\akash\\Downloads\\projects\\BCI_research\\model\\.venv\\lib\\site-packages\\keras\\src\\losses.py\", line 143, in __call__\n\n  File \"c:\\Users\\akash\\Downloads\\projects\\BCI_research\\model\\.venv\\lib\\site-packages\\keras\\src\\losses.py\", line 270, in call\n\n  File \"c:\\Users\\akash\\Downloads\\projects\\BCI_research\\model\\.venv\\lib\\site-packages\\keras\\src\\losses.py\", line 2454, in sparse_categorical_crossentropy\n\n  File \"c:\\Users\\akash\\Downloads\\projects\\BCI_research\\model\\.venv\\lib\\site-packages\\keras\\src\\backend.py\", line 5775, in sparse_categorical_crossentropy\n\nlogits and labels must have the same first dimension, got logits shape [25600,2] and labels shape [32]\n\t [[{{node sparse_categorical_crossentropy/SparseSoftmaxCrossEntropyWithLogits/SparseSoftmaxCrossEntropyWithLogits}}]] [Op:__inference_train_function_1325]",
          "output_type": "error",
          "traceback": [
            "\u001b[1;31m---------------------------------------------------------------------------\u001b[0m",
            "\u001b[1;31mInvalidArgumentError\u001b[0m                      Traceback (most recent call last)",
            "Cell \u001b[1;32mIn[30], line 18\u001b[0m\n\u001b[0;32m      4\u001b[0m callbacks \u001b[38;5;241m=\u001b[39m [\n\u001b[0;32m      5\u001b[0m     keras\u001b[38;5;241m.\u001b[39mcallbacks\u001b[38;5;241m.\u001b[39mModelCheckpoint(\n\u001b[0;32m      6\u001b[0m         \u001b[38;5;124m\"\u001b[39m\u001b[38;5;124mbest_model.keras\u001b[39m\u001b[38;5;124m\"\u001b[39m, save_best_only\u001b[38;5;241m=\u001b[39m\u001b[38;5;28;01mTrue\u001b[39;00m, monitor\u001b[38;5;241m=\u001b[39m\u001b[38;5;124m\"\u001b[39m\u001b[38;5;124mval_loss\u001b[39m\u001b[38;5;124m\"\u001b[39m\n\u001b[1;32m   (...)\u001b[0m\n\u001b[0;32m     11\u001b[0m     keras\u001b[38;5;241m.\u001b[39mcallbacks\u001b[38;5;241m.\u001b[39mEarlyStopping(monitor\u001b[38;5;241m=\u001b[39m\u001b[38;5;124m\"\u001b[39m\u001b[38;5;124mval_loss\u001b[39m\u001b[38;5;124m\"\u001b[39m, patience\u001b[38;5;241m=\u001b[39m\u001b[38;5;241m50\u001b[39m, verbose\u001b[38;5;241m=\u001b[39m\u001b[38;5;241m1\u001b[39m),\n\u001b[0;32m     12\u001b[0m ]\n\u001b[0;32m     13\u001b[0m model\u001b[38;5;241m.\u001b[39mcompile(\n\u001b[0;32m     14\u001b[0m     optimizer\u001b[38;5;241m=\u001b[39m\u001b[38;5;124m\"\u001b[39m\u001b[38;5;124madam\u001b[39m\u001b[38;5;124m\"\u001b[39m,\n\u001b[0;32m     15\u001b[0m     loss\u001b[38;5;241m=\u001b[39m\u001b[38;5;124m\"\u001b[39m\u001b[38;5;124msparse_categorical_crossentropy\u001b[39m\u001b[38;5;124m\"\u001b[39m,\n\u001b[0;32m     16\u001b[0m     metrics\u001b[38;5;241m=\u001b[39m[\u001b[38;5;124m\"\u001b[39m\u001b[38;5;124msparse_categorical_accuracy\u001b[39m\u001b[38;5;124m\"\u001b[39m],\n\u001b[0;32m     17\u001b[0m )\n\u001b[1;32m---> 18\u001b[0m history \u001b[38;5;241m=\u001b[39m \u001b[43mmodel\u001b[49m\u001b[38;5;241;43m.\u001b[39;49m\u001b[43mfit\u001b[49m\u001b[43m(\u001b[49m\n\u001b[0;32m     19\u001b[0m \u001b[43m    \u001b[49m\u001b[43mx_train\u001b[49m\u001b[43m,\u001b[49m\n\u001b[0;32m     20\u001b[0m \u001b[43m    \u001b[49m\u001b[43my_train\u001b[49m\u001b[43m,\u001b[49m\n\u001b[0;32m     21\u001b[0m \u001b[43m    \u001b[49m\u001b[43mbatch_size\u001b[49m\u001b[38;5;241;43m=\u001b[39;49m\u001b[43mbatch_size\u001b[49m\u001b[43m,\u001b[49m\n\u001b[0;32m     22\u001b[0m \u001b[43m    \u001b[49m\u001b[43mepochs\u001b[49m\u001b[38;5;241;43m=\u001b[39;49m\u001b[43mepochs\u001b[49m\u001b[43m,\u001b[49m\n\u001b[0;32m     23\u001b[0m \u001b[43m    \u001b[49m\u001b[43mcallbacks\u001b[49m\u001b[38;5;241;43m=\u001b[39;49m\u001b[43mcallbacks\u001b[49m\u001b[43m,\u001b[49m\n\u001b[0;32m     24\u001b[0m \u001b[43m    \u001b[49m\u001b[43mvalidation_split\u001b[49m\u001b[38;5;241;43m=\u001b[39;49m\u001b[38;5;241;43m0.2\u001b[39;49m\u001b[43m,\u001b[49m\n\u001b[0;32m     25\u001b[0m \u001b[43m    \u001b[49m\u001b[43mverbose\u001b[49m\u001b[38;5;241;43m=\u001b[39;49m\u001b[38;5;241;43m1\u001b[39;49m\u001b[43m,\u001b[49m\n\u001b[0;32m     26\u001b[0m \u001b[43m)\u001b[49m\n",
            "File \u001b[1;32mc:\\Users\\akash\\Downloads\\projects\\BCI_research\\model\\.venv\\lib\\site-packages\\keras\\src\\utils\\traceback_utils.py:70\u001b[0m, in \u001b[0;36mfilter_traceback.<locals>.error_handler\u001b[1;34m(*args, **kwargs)\u001b[0m\n\u001b[0;32m     67\u001b[0m     filtered_tb \u001b[38;5;241m=\u001b[39m _process_traceback_frames(e\u001b[38;5;241m.\u001b[39m__traceback__)\n\u001b[0;32m     68\u001b[0m     \u001b[38;5;66;03m# To get the full stack trace, call:\u001b[39;00m\n\u001b[0;32m     69\u001b[0m     \u001b[38;5;66;03m# `tf.debugging.disable_traceback_filtering()`\u001b[39;00m\n\u001b[1;32m---> 70\u001b[0m     \u001b[38;5;28;01mraise\u001b[39;00m e\u001b[38;5;241m.\u001b[39mwith_traceback(filtered_tb) \u001b[38;5;28;01mfrom\u001b[39;00m \u001b[38;5;28;01mNone\u001b[39;00m\n\u001b[0;32m     71\u001b[0m \u001b[38;5;28;01mfinally\u001b[39;00m:\n\u001b[0;32m     72\u001b[0m     \u001b[38;5;28;01mdel\u001b[39;00m filtered_tb\n",
            "File \u001b[1;32mc:\\Users\\akash\\Downloads\\projects\\BCI_research\\model\\.venv\\lib\\site-packages\\tensorflow\\python\\eager\\execute.py:53\u001b[0m, in \u001b[0;36mquick_execute\u001b[1;34m(op_name, num_outputs, inputs, attrs, ctx, name)\u001b[0m\n\u001b[0;32m     51\u001b[0m \u001b[38;5;28;01mtry\u001b[39;00m:\n\u001b[0;32m     52\u001b[0m   ctx\u001b[38;5;241m.\u001b[39mensure_initialized()\n\u001b[1;32m---> 53\u001b[0m   tensors \u001b[38;5;241m=\u001b[39m pywrap_tfe\u001b[38;5;241m.\u001b[39mTFE_Py_Execute(ctx\u001b[38;5;241m.\u001b[39m_handle, device_name, op_name,\n\u001b[0;32m     54\u001b[0m                                       inputs, attrs, num_outputs)\n\u001b[0;32m     55\u001b[0m \u001b[38;5;28;01mexcept\u001b[39;00m core\u001b[38;5;241m.\u001b[39m_NotOkStatusException \u001b[38;5;28;01mas\u001b[39;00m e:\n\u001b[0;32m     56\u001b[0m   \u001b[38;5;28;01mif\u001b[39;00m name \u001b[38;5;129;01mis\u001b[39;00m \u001b[38;5;129;01mnot\u001b[39;00m \u001b[38;5;28;01mNone\u001b[39;00m:\n",
            "\u001b[1;31mInvalidArgumentError\u001b[0m: Graph execution error:\n\nDetected at node sparse_categorical_crossentropy/SparseSoftmaxCrossEntropyWithLogits/SparseSoftmaxCrossEntropyWithLogits defined at (most recent call last):\n  File \"C:\\Users\\akash\\AppData\\Local\\Programs\\Python\\Python310\\lib\\runpy.py\", line 196, in _run_module_as_main\n\n  File \"C:\\Users\\akash\\AppData\\Local\\Programs\\Python\\Python310\\lib\\runpy.py\", line 86, in _run_code\n\n  File \"c:\\Users\\akash\\Downloads\\projects\\BCI_research\\model\\.venv\\lib\\site-packages\\ipykernel_launcher.py\", line 17, in <module>\n\n  File \"c:\\Users\\akash\\Downloads\\projects\\BCI_research\\model\\.venv\\lib\\site-packages\\traitlets\\config\\application.py\", line 1075, in launch_instance\n\n  File \"c:\\Users\\akash\\Downloads\\projects\\BCI_research\\model\\.venv\\lib\\site-packages\\ipykernel\\kernelapp.py\", line 739, in start\n\n  File \"c:\\Users\\akash\\Downloads\\projects\\BCI_research\\model\\.venv\\lib\\site-packages\\tornado\\platform\\asyncio.py\", line 205, in start\n\n  File \"C:\\Users\\akash\\AppData\\Local\\Programs\\Python\\Python310\\lib\\asyncio\\base_events.py\", line 595, in run_forever\n\n  File \"C:\\Users\\akash\\AppData\\Local\\Programs\\Python\\Python310\\lib\\asyncio\\base_events.py\", line 1881, in _run_once\n\n  File \"C:\\Users\\akash\\AppData\\Local\\Programs\\Python\\Python310\\lib\\asyncio\\events.py\", line 80, in _run\n\n  File \"c:\\Users\\akash\\Downloads\\projects\\BCI_research\\model\\.venv\\lib\\site-packages\\ipykernel\\kernelbase.py\", line 542, in dispatch_queue\n\n  File \"c:\\Users\\akash\\Downloads\\projects\\BCI_research\\model\\.venv\\lib\\site-packages\\ipykernel\\kernelbase.py\", line 531, in process_one\n\n  File \"c:\\Users\\akash\\Downloads\\projects\\BCI_research\\model\\.venv\\lib\\site-packages\\ipykernel\\kernelbase.py\", line 437, in dispatch_shell\n\n  File \"c:\\Users\\akash\\Downloads\\projects\\BCI_research\\model\\.venv\\lib\\site-packages\\ipykernel\\ipkernel.py\", line 359, in execute_request\n\n  File \"c:\\Users\\akash\\Downloads\\projects\\BCI_research\\model\\.venv\\lib\\site-packages\\ipykernel\\kernelbase.py\", line 775, in execute_request\n\n  File \"c:\\Users\\akash\\Downloads\\projects\\BCI_research\\model\\.venv\\lib\\site-packages\\ipykernel\\ipkernel.py\", line 446, in do_execute\n\n  File \"c:\\Users\\akash\\Downloads\\projects\\BCI_research\\model\\.venv\\lib\\site-packages\\ipykernel\\zmqshell.py\", line 549, in run_cell\n\n  File \"c:\\Users\\akash\\Downloads\\projects\\BCI_research\\model\\.venv\\lib\\site-packages\\IPython\\core\\interactiveshell.py\", line 3051, in run_cell\n\n  File \"c:\\Users\\akash\\Downloads\\projects\\BCI_research\\model\\.venv\\lib\\site-packages\\IPython\\core\\interactiveshell.py\", line 3106, in _run_cell\n\n  File \"c:\\Users\\akash\\Downloads\\projects\\BCI_research\\model\\.venv\\lib\\site-packages\\IPython\\core\\async_helpers.py\", line 129, in _pseudo_sync_runner\n\n  File \"c:\\Users\\akash\\Downloads\\projects\\BCI_research\\model\\.venv\\lib\\site-packages\\IPython\\core\\interactiveshell.py\", line 3311, in run_cell_async\n\n  File \"c:\\Users\\akash\\Downloads\\projects\\BCI_research\\model\\.venv\\lib\\site-packages\\IPython\\core\\interactiveshell.py\", line 3493, in run_ast_nodes\n\n  File \"c:\\Users\\akash\\Downloads\\projects\\BCI_research\\model\\.venv\\lib\\site-packages\\IPython\\core\\interactiveshell.py\", line 3553, in run_code\n\n  File \"C:\\Users\\akash\\AppData\\Local\\Temp\\ipykernel_6056\\4009029205.py\", line 18, in <module>\n\n  File \"c:\\Users\\akash\\Downloads\\projects\\BCI_research\\model\\.venv\\lib\\site-packages\\keras\\src\\utils\\traceback_utils.py\", line 65, in error_handler\n\n  File \"c:\\Users\\akash\\Downloads\\projects\\BCI_research\\model\\.venv\\lib\\site-packages\\keras\\src\\engine\\training.py\", line 1807, in fit\n\n  File \"c:\\Users\\akash\\Downloads\\projects\\BCI_research\\model\\.venv\\lib\\site-packages\\keras\\src\\engine\\training.py\", line 1401, in train_function\n\n  File \"c:\\Users\\akash\\Downloads\\projects\\BCI_research\\model\\.venv\\lib\\site-packages\\keras\\src\\engine\\training.py\", line 1384, in step_function\n\n  File \"c:\\Users\\akash\\Downloads\\projects\\BCI_research\\model\\.venv\\lib\\site-packages\\keras\\src\\engine\\training.py\", line 1373, in run_step\n\n  File \"c:\\Users\\akash\\Downloads\\projects\\BCI_research\\model\\.venv\\lib\\site-packages\\keras\\src\\engine\\training.py\", line 1151, in train_step\n\n  File \"c:\\Users\\akash\\Downloads\\projects\\BCI_research\\model\\.venv\\lib\\site-packages\\keras\\src\\engine\\training.py\", line 1209, in compute_loss\n\n  File \"c:\\Users\\akash\\Downloads\\projects\\BCI_research\\model\\.venv\\lib\\site-packages\\keras\\src\\engine\\compile_utils.py\", line 277, in __call__\n\n  File \"c:\\Users\\akash\\Downloads\\projects\\BCI_research\\model\\.venv\\lib\\site-packages\\keras\\src\\losses.py\", line 143, in __call__\n\n  File \"c:\\Users\\akash\\Downloads\\projects\\BCI_research\\model\\.venv\\lib\\site-packages\\keras\\src\\losses.py\", line 270, in call\n\n  File \"c:\\Users\\akash\\Downloads\\projects\\BCI_research\\model\\.venv\\lib\\site-packages\\keras\\src\\losses.py\", line 2454, in sparse_categorical_crossentropy\n\n  File \"c:\\Users\\akash\\Downloads\\projects\\BCI_research\\model\\.venv\\lib\\site-packages\\keras\\src\\backend.py\", line 5775, in sparse_categorical_crossentropy\n\nlogits and labels must have the same first dimension, got logits shape [25600,2] and labels shape [32]\n\t [[{{node sparse_categorical_crossentropy/SparseSoftmaxCrossEntropyWithLogits/SparseSoftmaxCrossEntropyWithLogits}}]] [Op:__inference_train_function_1325]"
          ]
        }
      ],
      "source": [
        "# epochs = 50\n",
        "# batch_size = 32\n",
        "\n",
        "# callbacks = [\n",
        "#     keras.callbacks.ModelCheckpoint(\n",
        "#         \"best_model.keras\", save_best_only=True, monitor=\"val_loss\"\n",
        "#     ),\n",
        "#     keras.callbacks.ReduceLROnPlateau(\n",
        "#         monitor=\"val_loss\", factor=0.5, patience=20, min_lr=0.0001\n",
        "#     ),\n",
        "#     keras.callbacks.EarlyStopping(monitor=\"val_loss\", patience=50, verbose=1),\n",
        "# ]\n",
        "# model.compile(\n",
        "#     optimizer=\"adam\",\n",
        "#     loss=\"sparse_categorical_crossentropy\",\n",
        "#     metrics=[\"sparse_categorical_accuracy\"],\n",
        "# )\n",
        "# history = model.fit(\n",
        "#     x_train,\n",
        "#     y_train,\n",
        "#     batch_size=batch_size,\n",
        "#     epochs=epochs,\n",
        "#     callbacks=callbacks,\n",
        "#     validation_split=0.2,\n",
        "#     verbose=1,\n",
        "# )"
      ]
    },
    {
      "cell_type": "markdown",
      "metadata": {
        "id": "QDw1vp-Chg0U"
      },
      "source": [
        "## Evaluate model on test data"
      ]
    },
    {
      "cell_type": "code",
      "execution_count": 30,
      "metadata": {
        "colab": {
          "base_uri": "https://localhost:8080/"
        },
        "id": "tRHOWYC5hg0U",
        "outputId": "10044c63-b49c-4900-feca-bb9af7f97b76"
      },
      "outputs": [
        {
          "name": "stdout",
          "output_type": "stream",
          "text": [
            "3/3 [==============================] - 0s 5ms/step - loss: 0.1712 - accuracy: 1.0000\n",
            "Test accuracy 1.0\n",
            "Test loss 0.17116303741931915\n"
          ]
        }
      ],
      "source": [
        "model = keras.models.load_model(\"my_model.h5\")\n",
        "\n",
        "test_loss, test_acc = model.evaluate(x_test, y_test)\n",
        "\n",
        "print(\"Test accuracy\", test_acc)\n",
        "print(\"Test loss\", test_loss)"
      ]
    },
    {
      "cell_type": "markdown",
      "metadata": {
        "id": "hvhXJTDChg0V"
      },
      "source": [
        "## Plot the model's training and validation loss"
      ]
    },
    {
      "cell_type": "code",
      "execution_count": 46,
      "metadata": {
        "colab": {
          "base_uri": "https://localhost:8080/",
          "height": 476
        },
        "id": "mfB-MvVvhg0V",
        "outputId": "e8740b74-bd23-4cb5-d68e-2a7c3952176c"
      },
      "outputs": [
        {
          "ename": "NameError",
          "evalue": "name 'history' is not defined",
          "output_type": "error",
          "traceback": [
            "\u001b[1;31m---------------------------------------------------------------------------\u001b[0m",
            "\u001b[1;31mNameError\u001b[0m                                 Traceback (most recent call last)",
            "Cell \u001b[1;32mIn[46], line 3\u001b[0m\n\u001b[0;32m      1\u001b[0m metric \u001b[38;5;241m=\u001b[39m \u001b[38;5;124m\"\u001b[39m\u001b[38;5;124msparse_categorical_accuracy\u001b[39m\u001b[38;5;124m\"\u001b[39m\n\u001b[0;32m      2\u001b[0m plt\u001b[38;5;241m.\u001b[39mfigure()\n\u001b[1;32m----> 3\u001b[0m plt\u001b[38;5;241m.\u001b[39mplot(\u001b[43mhistory\u001b[49m\u001b[38;5;241m.\u001b[39mhistory[metric])\n\u001b[0;32m      4\u001b[0m plt\u001b[38;5;241m.\u001b[39mplot(history\u001b[38;5;241m.\u001b[39mhistory[\u001b[38;5;124m\"\u001b[39m\u001b[38;5;124mval_\u001b[39m\u001b[38;5;124m\"\u001b[39m \u001b[38;5;241m+\u001b[39m metric])\n\u001b[0;32m      5\u001b[0m plt\u001b[38;5;241m.\u001b[39mtitle(\u001b[38;5;124m\"\u001b[39m\u001b[38;5;124mmodel \u001b[39m\u001b[38;5;124m\"\u001b[39m \u001b[38;5;241m+\u001b[39m metric)\n",
            "\u001b[1;31mNameError\u001b[0m: name 'history' is not defined"
          ]
        },
        {
          "data": {
            "text/plain": [
              "<Figure size 640x480 with 0 Axes>"
            ]
          },
          "metadata": {},
          "output_type": "display_data"
        }
      ],
      "source": [
        "# metric = \"sparse_categorical_accuracy\"\n",
        "# plt.figure()\n",
        "# plt.plot(history.history[metric])\n",
        "# plt.plot(history.history[\"val_\" + metric])\n",
        "# plt.title(\"model \" + metric)\n",
        "# plt.ylabel(metric, fontsize=\"large\")\n",
        "# plt.xlabel(\"epoch\", fontsize=\"large\")\n",
        "# plt.legend([\"train\", \"val\"], loc=\"best\")\n",
        "# plt.show()\n",
        "# plt.close()"
      ]
    },
    {
      "cell_type": "markdown",
      "metadata": {
        "id": "agLyepz8hg0V"
      },
      "source": [
        "We can see how the training accuracy reaches almost 0.95 after 100 epochs.\n",
        "However, by observing the validation accuracy we can see how the network still needs\n",
        "training until it reaches almost 0.97 for both the validation and the training accuracy\n",
        "after 200 epochs. Beyond the 200th epoch, if we continue on training, the validation\n",
        "accuracy will start decreasing while the training accuracy will continue on increasing:\n",
        "the model starts overfitting."
      ]
    },
    {
      "cell_type": "markdown",
      "metadata": {
        "id": "9o9aJOCrms8C"
      },
      "source": [
        "### create ypred"
      ]
    },
    {
      "cell_type": "code",
      "execution_count": 31,
      "metadata": {},
      "outputs": [
        {
          "name": "stdout",
          "output_type": "stream",
          "text": [
            "12/12 [==============================] - 0s 5ms/step\n"
          ]
        }
      ],
      "source": [
        "y_train_pred = model.predict(x_train)\n",
        "# print(x_test.shape)\n",
        "# print(y_test.shape)\n"
      ]
    },
    {
      "cell_type": "code",
      "execution_count": 32,
      "metadata": {
        "colab": {
          "base_uri": "https://localhost:8080/"
        },
        "id": "HstfEb7bmsqz",
        "outputId": "5d38ff85-45ff-4014-9ae8-39fe1b3b3538"
      },
      "outputs": [
        {
          "name": "stdout",
          "output_type": "stream",
          "text": [
            "3/3 [==============================] - 0s 11ms/step\n",
            "(95, 800, 4)\n",
            "(95,)\n"
          ]
        }
      ],
      "source": [
        "# prompt: how to predict time series data with keras model\n",
        "\n",
        "ypred = model.predict(x_test)\n",
        "print(x_test.shape)\n",
        "print(y_test.shape)\n"
      ]
    },
    {
      "cell_type": "code",
      "execution_count": 33,
      "metadata": {},
      "outputs": [
        {
          "data": {
            "text/plain": [
              "array([[0.],\n",
              "       [0.],\n",
              "       [0.],\n",
              "       [1.],\n",
              "       [1.],\n",
              "       [0.],\n",
              "       [0.],\n",
              "       [1.],\n",
              "       [0.],\n",
              "       [1.],\n",
              "       [0.],\n",
              "       [0.],\n",
              "       [0.],\n",
              "       [0.],\n",
              "       [0.],\n",
              "       [1.],\n",
              "       [0.],\n",
              "       [0.],\n",
              "       [0.],\n",
              "       [0.],\n",
              "       [0.],\n",
              "       [1.],\n",
              "       [0.],\n",
              "       [0.],\n",
              "       [1.],\n",
              "       [0.],\n",
              "       [0.],\n",
              "       [1.],\n",
              "       [0.],\n",
              "       [0.],\n",
              "       [1.],\n",
              "       [0.],\n",
              "       [0.],\n",
              "       [0.],\n",
              "       [0.],\n",
              "       [1.],\n",
              "       [1.],\n",
              "       [0.],\n",
              "       [1.],\n",
              "       [0.],\n",
              "       [1.],\n",
              "       [1.],\n",
              "       [1.],\n",
              "       [0.],\n",
              "       [1.],\n",
              "       [1.],\n",
              "       [0.],\n",
              "       [0.],\n",
              "       [0.],\n",
              "       [1.],\n",
              "       [0.],\n",
              "       [1.],\n",
              "       [0.],\n",
              "       [1.],\n",
              "       [1.],\n",
              "       [0.],\n",
              "       [1.],\n",
              "       [0.],\n",
              "       [0.],\n",
              "       [0.],\n",
              "       [1.],\n",
              "       [1.],\n",
              "       [1.],\n",
              "       [1.],\n",
              "       [1.],\n",
              "       [0.],\n",
              "       [1.],\n",
              "       [0.],\n",
              "       [0.],\n",
              "       [0.],\n",
              "       [0.],\n",
              "       [0.],\n",
              "       [0.],\n",
              "       [1.],\n",
              "       [1.],\n",
              "       [1.],\n",
              "       [1.],\n",
              "       [1.],\n",
              "       [1.],\n",
              "       [1.],\n",
              "       [1.],\n",
              "       [0.],\n",
              "       [1.],\n",
              "       [0.],\n",
              "       [1.],\n",
              "       [0.],\n",
              "       [1.],\n",
              "       [1.],\n",
              "       [1.],\n",
              "       [0.],\n",
              "       [1.],\n",
              "       [0.],\n",
              "       [1.],\n",
              "       [0.],\n",
              "       [0.],\n",
              "       [1.],\n",
              "       [1.],\n",
              "       [0.],\n",
              "       [1.],\n",
              "       [1.],\n",
              "       [1.],\n",
              "       [0.],\n",
              "       [1.],\n",
              "       [0.],\n",
              "       [1.],\n",
              "       [1.],\n",
              "       [1.],\n",
              "       [1.],\n",
              "       [1.],\n",
              "       [0.],\n",
              "       [1.],\n",
              "       [1.],\n",
              "       [0.],\n",
              "       [0.],\n",
              "       [1.],\n",
              "       [0.],\n",
              "       [0.],\n",
              "       [0.],\n",
              "       [0.],\n",
              "       [0.],\n",
              "       [0.],\n",
              "       [1.],\n",
              "       [1.],\n",
              "       [1.],\n",
              "       [0.],\n",
              "       [0.],\n",
              "       [0.],\n",
              "       [0.],\n",
              "       [0.],\n",
              "       [0.],\n",
              "       [1.],\n",
              "       [0.],\n",
              "       [0.],\n",
              "       [1.],\n",
              "       [0.],\n",
              "       [0.],\n",
              "       [1.],\n",
              "       [0.],\n",
              "       [0.],\n",
              "       [1.],\n",
              "       [1.],\n",
              "       [1.],\n",
              "       [1.],\n",
              "       [1.],\n",
              "       [0.],\n",
              "       [1.],\n",
              "       [0.],\n",
              "       [1.],\n",
              "       [0.],\n",
              "       [1.],\n",
              "       [1.],\n",
              "       [0.],\n",
              "       [1.],\n",
              "       [1.],\n",
              "       [1.],\n",
              "       [1.],\n",
              "       [1.],\n",
              "       [1.],\n",
              "       [0.],\n",
              "       [1.],\n",
              "       [0.],\n",
              "       [1.],\n",
              "       [0.],\n",
              "       [1.],\n",
              "       [0.],\n",
              "       [0.],\n",
              "       [0.],\n",
              "       [0.],\n",
              "       [0.],\n",
              "       [1.],\n",
              "       [0.],\n",
              "       [1.],\n",
              "       [0.],\n",
              "       [1.],\n",
              "       [0.],\n",
              "       [0.],\n",
              "       [1.],\n",
              "       [0.],\n",
              "       [0.],\n",
              "       [0.],\n",
              "       [1.],\n",
              "       [1.],\n",
              "       [1.],\n",
              "       [0.],\n",
              "       [0.],\n",
              "       [1.],\n",
              "       [0.],\n",
              "       [1.],\n",
              "       [1.],\n",
              "       [1.],\n",
              "       [1.],\n",
              "       [0.],\n",
              "       [0.],\n",
              "       [1.],\n",
              "       [1.],\n",
              "       [1.],\n",
              "       [1.],\n",
              "       [0.],\n",
              "       [1.],\n",
              "       [1.],\n",
              "       [1.],\n",
              "       [1.],\n",
              "       [0.],\n",
              "       [1.],\n",
              "       [0.],\n",
              "       [0.],\n",
              "       [0.],\n",
              "       [0.],\n",
              "       [1.],\n",
              "       [1.],\n",
              "       [0.],\n",
              "       [0.],\n",
              "       [0.],\n",
              "       [0.],\n",
              "       [1.],\n",
              "       [0.],\n",
              "       [1.],\n",
              "       [1.],\n",
              "       [0.],\n",
              "       [0.],\n",
              "       [0.],\n",
              "       [1.],\n",
              "       [1.],\n",
              "       [0.],\n",
              "       [0.],\n",
              "       [0.],\n",
              "       [1.],\n",
              "       [0.],\n",
              "       [0.],\n",
              "       [0.],\n",
              "       [0.],\n",
              "       [0.],\n",
              "       [0.],\n",
              "       [0.],\n",
              "       [0.],\n",
              "       [0.],\n",
              "       [1.],\n",
              "       [0.],\n",
              "       [1.],\n",
              "       [0.],\n",
              "       [0.],\n",
              "       [1.],\n",
              "       [0.],\n",
              "       [1.],\n",
              "       [1.],\n",
              "       [1.],\n",
              "       [1.],\n",
              "       [0.],\n",
              "       [1.],\n",
              "       [0.],\n",
              "       [1.],\n",
              "       [1.],\n",
              "       [0.],\n",
              "       [1.],\n",
              "       [0.],\n",
              "       [0.],\n",
              "       [0.],\n",
              "       [0.],\n",
              "       [1.],\n",
              "       [0.],\n",
              "       [1.],\n",
              "       [0.],\n",
              "       [0.],\n",
              "       [1.],\n",
              "       [0.],\n",
              "       [1.],\n",
              "       [0.],\n",
              "       [1.],\n",
              "       [1.],\n",
              "       [0.],\n",
              "       [0.],\n",
              "       [1.],\n",
              "       [1.],\n",
              "       [1.],\n",
              "       [0.],\n",
              "       [0.],\n",
              "       [1.],\n",
              "       [0.],\n",
              "       [1.],\n",
              "       [1.],\n",
              "       [1.],\n",
              "       [0.],\n",
              "       [0.],\n",
              "       [1.],\n",
              "       [0.],\n",
              "       [0.],\n",
              "       [0.],\n",
              "       [0.],\n",
              "       [1.],\n",
              "       [1.],\n",
              "       [1.],\n",
              "       [0.],\n",
              "       [1.],\n",
              "       [1.],\n",
              "       [0.],\n",
              "       [0.],\n",
              "       [1.],\n",
              "       [0.],\n",
              "       [1.],\n",
              "       [0.],\n",
              "       [1.],\n",
              "       [1.],\n",
              "       [1.],\n",
              "       [1.],\n",
              "       [1.],\n",
              "       [1.],\n",
              "       [1.],\n",
              "       [1.],\n",
              "       [0.],\n",
              "       [0.],\n",
              "       [0.],\n",
              "       [1.],\n",
              "       [0.],\n",
              "       [1.],\n",
              "       [1.],\n",
              "       [1.],\n",
              "       [1.],\n",
              "       [0.],\n",
              "       [1.],\n",
              "       [0.],\n",
              "       [0.],\n",
              "       [0.],\n",
              "       [1.],\n",
              "       [1.],\n",
              "       [0.],\n",
              "       [1.],\n",
              "       [1.],\n",
              "       [1.],\n",
              "       [1.],\n",
              "       [0.],\n",
              "       [1.],\n",
              "       [1.],\n",
              "       [1.],\n",
              "       [1.],\n",
              "       [1.],\n",
              "       [1.],\n",
              "       [0.],\n",
              "       [1.],\n",
              "       [0.],\n",
              "       [1.],\n",
              "       [0.],\n",
              "       [1.],\n",
              "       [1.],\n",
              "       [1.],\n",
              "       [0.],\n",
              "       [1.],\n",
              "       [1.],\n",
              "       [1.],\n",
              "       [0.],\n",
              "       [0.],\n",
              "       [0.],\n",
              "       [0.],\n",
              "       [0.],\n",
              "       [0.],\n",
              "       [1.],\n",
              "       [0.],\n",
              "       [0.],\n",
              "       [1.],\n",
              "       [1.],\n",
              "       [0.],\n",
              "       [1.],\n",
              "       [1.],\n",
              "       [1.],\n",
              "       [1.],\n",
              "       [1.],\n",
              "       [0.],\n",
              "       [0.],\n",
              "       [0.],\n",
              "       [1.],\n",
              "       [1.],\n",
              "       [0.],\n",
              "       [0.],\n",
              "       [1.],\n",
              "       [1.],\n",
              "       [1.],\n",
              "       [1.],\n",
              "       [0.],\n",
              "       [0.],\n",
              "       [0.]], dtype=float32)"
            ]
          },
          "execution_count": 33,
          "metadata": {},
          "output_type": "execute_result"
        }
      ],
      "source": [
        "y_train_pred"
      ]
    },
    {
      "cell_type": "code",
      "execution_count": 34,
      "metadata": {},
      "outputs": [
        {
          "data": {
            "text/plain": [
              "array([[1.],\n",
              "       [0.],\n",
              "       [0.],\n",
              "       [1.],\n",
              "       [0.],\n",
              "       [0.],\n",
              "       [0.],\n",
              "       [1.],\n",
              "       [0.],\n",
              "       [1.],\n",
              "       [0.],\n",
              "       [1.],\n",
              "       [0.],\n",
              "       [1.],\n",
              "       [1.],\n",
              "       [1.],\n",
              "       [1.],\n",
              "       [1.],\n",
              "       [1.],\n",
              "       [0.],\n",
              "       [0.],\n",
              "       [0.],\n",
              "       [1.],\n",
              "       [0.],\n",
              "       [0.],\n",
              "       [1.],\n",
              "       [1.],\n",
              "       [0.],\n",
              "       [1.],\n",
              "       [1.],\n",
              "       [1.],\n",
              "       [0.],\n",
              "       [1.],\n",
              "       [1.],\n",
              "       [0.],\n",
              "       [0.],\n",
              "       [0.],\n",
              "       [0.],\n",
              "       [1.],\n",
              "       [1.],\n",
              "       [1.],\n",
              "       [1.],\n",
              "       [1.],\n",
              "       [1.],\n",
              "       [0.],\n",
              "       [0.],\n",
              "       [1.],\n",
              "       [1.],\n",
              "       [1.],\n",
              "       [0.],\n",
              "       [0.],\n",
              "       [1.],\n",
              "       [1.],\n",
              "       [0.],\n",
              "       [1.],\n",
              "       [1.],\n",
              "       [0.],\n",
              "       [0.],\n",
              "       [1.],\n",
              "       [0.],\n",
              "       [1.],\n",
              "       [0.],\n",
              "       [0.],\n",
              "       [0.],\n",
              "       [1.],\n",
              "       [0.],\n",
              "       [1.],\n",
              "       [1.],\n",
              "       [1.],\n",
              "       [0.],\n",
              "       [0.],\n",
              "       [0.],\n",
              "       [0.],\n",
              "       [1.],\n",
              "       [0.],\n",
              "       [0.],\n",
              "       [1.],\n",
              "       [0.],\n",
              "       [0.],\n",
              "       [0.],\n",
              "       [0.],\n",
              "       [0.],\n",
              "       [0.],\n",
              "       [1.],\n",
              "       [0.],\n",
              "       [1.],\n",
              "       [0.],\n",
              "       [1.],\n",
              "       [1.],\n",
              "       [1.],\n",
              "       [1.],\n",
              "       [0.],\n",
              "       [0.],\n",
              "       [1.],\n",
              "       [1.]], dtype=float32)"
            ]
          },
          "execution_count": 34,
          "metadata": {},
          "output_type": "execute_result"
        }
      ],
      "source": [
        "ypred"
      ]
    },
    {
      "cell_type": "markdown",
      "metadata": {},
      "source": [
        "### post proccessing for arch 2"
      ]
    },
    {
      "cell_type": "code",
      "execution_count": 37,
      "metadata": {},
      "outputs": [],
      "source": [
        "y_train_pred = (y_train_pred > 0.5).astype(int)"
      ]
    },
    {
      "cell_type": "code",
      "execution_count": 38,
      "metadata": {},
      "outputs": [
        {
          "data": {
            "text/plain": [
              "(379, 10)"
            ]
          },
          "execution_count": 38,
          "metadata": {},
          "output_type": "execute_result"
        }
      ],
      "source": [
        "y_train_pred.shape"
      ]
    },
    {
      "cell_type": "code",
      "execution_count": 35,
      "metadata": {},
      "outputs": [],
      "source": [
        "y_train_pred = y_train_pred[:, 0]  # Select the first column"
      ]
    },
    {
      "cell_type": "code",
      "execution_count": 36,
      "metadata": {},
      "outputs": [
        {
          "data": {
            "text/plain": [
              "(379,)"
            ]
          },
          "execution_count": 36,
          "metadata": {},
          "output_type": "execute_result"
        }
      ],
      "source": [
        "y_train_pred.shape"
      ]
    },
    {
      "cell_type": "code",
      "execution_count": null,
      "metadata": {},
      "outputs": [],
      "source": []
    },
    {
      "cell_type": "code",
      "execution_count": 41,
      "metadata": {},
      "outputs": [],
      "source": [
        "ypred = (ypred > 0.5).astype(int)"
      ]
    },
    {
      "cell_type": "code",
      "execution_count": 42,
      "metadata": {},
      "outputs": [
        {
          "data": {
            "text/plain": [
              "(95, 10)"
            ]
          },
          "execution_count": 42,
          "metadata": {},
          "output_type": "execute_result"
        }
      ],
      "source": [
        "ypred.shape"
      ]
    },
    {
      "cell_type": "code",
      "execution_count": 37,
      "metadata": {},
      "outputs": [],
      "source": [
        "ypred = ypred[:, 0]  # Select the first column"
      ]
    },
    {
      "cell_type": "code",
      "execution_count": 38,
      "metadata": {},
      "outputs": [
        {
          "data": {
            "text/plain": [
              "(95,)"
            ]
          },
          "execution_count": 38,
          "metadata": {},
          "output_type": "execute_result"
        }
      ],
      "source": [
        "ypred.shape"
      ]
    },
    {
      "cell_type": "code",
      "execution_count": null,
      "metadata": {},
      "outputs": [],
      "source": []
    },
    {
      "cell_type": "markdown",
      "metadata": {
        "id": "_T6mCBzppC_h"
      },
      "source": [
        "### post processing for ypred for arch 1"
      ]
    },
    {
      "cell_type": "code",
      "execution_count": 70,
      "metadata": {
        "id": "CiG1CyTPrHpO"
      },
      "outputs": [],
      "source": [
        "# np.set_printoptions(linewidth=200)"
      ]
    },
    {
      "cell_type": "code",
      "execution_count": 71,
      "metadata": {
        "id": "vRS4P9wvpG-7"
      },
      "outputs": [],
      "source": [
        "# def convert_to_single_dimension(predictions):\n",
        "#     # Get the index of the maximum probability for each prediction\n",
        "#     max_indices = np.argmax(predictions, axis=1)\n",
        "\n",
        "#     return max_indices"
      ]
    },
    {
      "cell_type": "code",
      "execution_count": 73,
      "metadata": {
        "colab": {
          "base_uri": "https://localhost:8080/"
        },
        "id": "65_55ljApJp2",
        "outputId": "a158dda9-0830-464f-abca-0c2580833f15"
      },
      "outputs": [
        {
          "name": "stdout",
          "output_type": "stream",
          "text": [
            "[1 0 0 1 0 0 0 1 0 1 0 1 0 1 1 1 1 1 1 0 0 0 1 0 0 1 1 0 1 1 1 0 1 1 0 0 0 0 1 1 1 1 1 1 0 0 1 1 1 0 0 1 1 0 1 1 0 0 1 0 1 0 0 0 1 0 1 1 1 0 0 0 0 1 0 0 1 0 0 0 0 0 0 1 0 1 0 1 1 1 1 0 0 1 1]\n"
          ]
        }
      ],
      "source": [
        "# ypred = convert_to_single_dimension(ypred)\n",
        "# print(ypred)"
      ]
    },
    {
      "cell_type": "code",
      "execution_count": 74,
      "metadata": {
        "colab": {
          "base_uri": "https://localhost:8080/"
        },
        "id": "THQLHm_Jr_UM",
        "outputId": "347df342-26be-45da-a6f7-671510295ffa"
      },
      "outputs": [
        {
          "data": {
            "text/plain": [
              "48"
            ]
          },
          "execution_count": 74,
          "metadata": {},
          "output_type": "execute_result"
        }
      ],
      "source": [
        "# np.count_nonzero(ypred == 1)"
      ]
    },
    {
      "cell_type": "code",
      "execution_count": 76,
      "metadata": {
        "colab": {
          "base_uri": "https://localhost:8080/"
        },
        "id": "5wnfqwNCsUgi",
        "outputId": "a023537f-63a5-4a05-cf32-edcbe4c05f06"
      },
      "outputs": [
        {
          "data": {
            "text/plain": [
              "48"
            ]
          },
          "execution_count": 76,
          "metadata": {},
          "output_type": "execute_result"
        }
      ],
      "source": [
        "# np.count_nonzero(y_test == 1)"
      ]
    },
    {
      "cell_type": "markdown",
      "metadata": {
        "id": "wJeTCJJ9kblJ"
      },
      "source": [
        "### Confusion matrix"
      ]
    },
    {
      "cell_type": "code",
      "execution_count": 39,
      "metadata": {
        "colab": {
          "base_uri": "https://localhost:8080/",
          "height": 449
        },
        "id": "dT2gLaFYkbL_",
        "outputId": "595c029e-7548-4028-b99f-ed7b9b92f9cc"
      },
      "outputs": [
        {
          "data": {
            "image/png": "[encoded data removed]",
            "text/plain": [
              "<Figure size 640x480 with 2 Axes>"
            ]
          },
          "metadata": {},
          "output_type": "display_data"
        }
      ],
      "source": [
        "from sklearn.metrics import ConfusionMatrixDisplay\n",
        "from sklearn.metrics import confusion_matrix\n",
        "import matplotlib.pyplot as plt\n",
        "\n",
        "labels = [\"0\",\"1\"]\n",
        "\n",
        "cm = confusion_matrix(y_test, ypred)\n",
        "\n",
        "disp = ConfusionMatrixDisplay(confusion_matrix=cm, display_labels=labels)\n",
        "\n",
        "disp.plot(cmap=plt.cm.Blues)\n",
        "plt.show()"
      ]
    },
    {
      "cell_type": "code",
      "execution_count": 40,
      "metadata": {
        "id": "kkmtxJD0su3c"
      },
      "outputs": [
        {
          "data": {
            "image/png": "[encoded data removed]",
            "text/plain": [
              "<Figure size 640x480 with 2 Axes>"
            ]
          },
          "metadata": {},
          "output_type": "display_data"
        }
      ],
      "source": [
        "from sklearn.metrics import ConfusionMatrixDisplay\n",
        "from sklearn.metrics import confusion_matrix\n",
        "import matplotlib.pyplot as plt\n",
        "\n",
        "labels = [\"0\",\"1\"]\n",
        "\n",
        "cm = confusion_matrix(y_train, y_train_pred)\n",
        "\n",
        "disp = ConfusionMatrixDisplay(confusion_matrix=cm, display_labels=labels)\n",
        "\n",
        "disp.plot(cmap=plt.cm.Blues)\n",
        "plt.show()"
      ]
    },
    {
      "cell_type": "markdown",
      "metadata": {},
      "source": [
        "### Classification report"
      ]
    },
    {
      "cell_type": "code",
      "execution_count": 41,
      "metadata": {},
      "outputs": [
        {
          "name": "stdout",
          "output_type": "stream",
          "text": [
            "              precision    recall  f1-score   support\n",
            "\n",
            "           0       1.00      1.00      1.00        47\n",
            "           1       1.00      1.00      1.00        48\n",
            "\n",
            "    accuracy                           1.00        95\n",
            "   macro avg       1.00      1.00      1.00        95\n",
            "weighted avg       1.00      1.00      1.00        95\n",
            "\n",
            "\n",
            "\n",
            "              precision    recall  f1-score   support\n",
            "\n",
            "           0       1.00      0.99      1.00       190\n",
            "           1       0.99      1.00      1.00       189\n",
            "\n",
            "    accuracy                           1.00       379\n",
            "   macro avg       1.00      1.00      1.00       379\n",
            "weighted avg       1.00      1.00      1.00       379\n",
            "\n"
          ]
        }
      ],
      "source": [
        "from sklearn.metrics import classification_report\n",
        "print(classification_report(y_test, ypred))\n",
        "print('\\n')\n",
        "print(classification_report(y_train, y_train_pred))"
      ]
    },
    {
      "cell_type": "code",
      "execution_count": null,
      "metadata": {},
      "outputs": [],
      "source": []
    },
    {
      "cell_type": "markdown",
      "metadata": {},
      "source": []
    }
  ],
  "metadata": {
    "accelerator": "GPU",
    "colab": {
      "provenance": [],
      "toc_visible": true
    },
    "kernelspec": {
      "display_name": "Python 3",
      "language": "python",
      "name": "python3"
    },
    "language_info": {
      "codemirror_mode": {
        "name": "ipython",
        "version": 3
      },
      "file_extension": ".py",
      "mimetype": "text/x-python",
      "name": "python",
      "nbconvert_exporter": "python",
      "pygments_lexer": "ipython3",
      "version": "3.10.2"
    }
  },
  "nbformat": 4,
  "nbformat_minor": 0
}
