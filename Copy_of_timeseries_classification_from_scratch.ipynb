{
  "cells": [
    {
      "cell_type": "markdown",
      "metadata": {
        "id": "QvZQRXOdhg0P"
      },
      "source": [
        "## Setup"
      ]
    },
    {
      "cell_type": "code",
      "execution_count": 5,
      "metadata": {},
      "outputs": [
        {
          "name": "stdout",
          "output_type": "stream",
          "text": [
            "WARNING:tensorflow:From c:\\Users\\akash\\Downloads\\projects\\BCI_research\\model\\.venv\\lib\\site-packages\\keras\\src\\losses.py:2976: The name tf.losses.sparse_softmax_cross_entropy is deprecated. Please use tf.compat.v1.losses.sparse_softmax_cross_entropy instead.\n",
            "\n",
            "2.15.0\n"
          ]
        }
      ],
      "source": [
        "import keras\n",
        "print(keras.__version__)"
      ]
    },
    {
      "cell_type": "code",
      "execution_count": 6,
      "metadata": {
        "id": "xyf0rqp8hg0P"
      },
      "outputs": [],
      "source": [
        "import keras\n",
        "import numpy as np\n",
        "import matplotlib.pyplot as plt\n",
        "import pandas as pd\n"
      ]
    },
    {
      "cell_type": "markdown",
      "metadata": {},
      "source": [
        "### Load Dataset"
      ]
    },
    {
      "cell_type": "code",
      "execution_count": 7,
      "metadata": {
        "id": "J-sWXPOKhg0R"
      },
      "outputs": [
        {
          "name": "stdout",
          "output_type": "stream",
          "text": [
            "   count    channel_1   channel_2   channel_3   channel_4  acc_x  acc_y  \\\n",
            "0  101.0 -1009.670141 -393.942362 -930.014012 -308.921346    0.0    0.0   \n",
            "1  101.0  -999.179721 -378.260961 -911.722161 -313.925332    0.0    0.0   \n",
            "2  102.0  -985.618844 -377.640138 -923.992773 -321.749203    0.0    0.0   \n",
            "3  102.0  -997.747340 -395.423362 -938.873835 -323.286302    0.0    0.0   \n",
            "4  103.0  -999.497613 -407.675274 -941.001838 -320.163485    0.0    0.0   \n",
            "\n",
            "   acc_z  resistance_1  resistance_2  resistance_3  resistance_4  \\\n",
            "0    0.0           0.0           0.0           0.0           0.0   \n",
            "1    0.0           0.0           0.0           0.0           0.0   \n",
            "2    0.0           0.0           0.0           0.0           0.0   \n",
            "3    0.0           0.0           0.0           0.0           0.0   \n",
            "4    0.0           0.0           0.0           0.0           0.0   \n",
            "\n",
            "   resistance_5     timestamp  marker       class  \n",
            "0           0.0  1.704024e+09     0.0  eyes_blink  \n",
            "1           0.0  1.704024e+09     0.0  eyes_blink  \n",
            "2           0.0  1.704024e+09     0.0  eyes_blink  \n",
            "3           0.0  1.704024e+09     0.0  eyes_blink  \n",
            "4           0.0  1.704024e+09     0.0  eyes_blink  \n",
            "<class 'pandas.core.frame.DataFrame'>\n"
          ]
        }
      ],
      "source": [
        "\n",
        "\n",
        "# Load the CSV file into a pandas DataFrame\n",
        "df = pd.read_csv('data.csv')\n",
        "\n",
        "# Now you can work with the data, for example, print the first few rows\n",
        "print(df.head())\n",
        "print(type(df))"
      ]
    },
    {
      "cell_type": "markdown",
      "metadata": {},
      "source": [
        "### remove unwanted columns"
      ]
    },
    {
      "cell_type": "code",
      "execution_count": 8,
      "metadata": {},
      "outputs": [
        {
          "name": "stdout",
          "output_type": "stream",
          "text": [
            "Original DataFrame:\n",
            "        count    channel_1   channel_2   channel_3   channel_4  acc_x  acc_y  \\\n",
            "0       101.0 -1009.670141 -393.942362 -930.014012 -308.921346    0.0    0.0   \n",
            "1       101.0  -999.179721 -378.260961 -911.722161 -313.925332    0.0    0.0   \n",
            "2       102.0  -985.618844 -377.640138 -923.992773 -321.749203    0.0    0.0   \n",
            "3       102.0  -997.747340 -395.423362 -938.873835 -323.286302    0.0    0.0   \n",
            "4       103.0  -999.497613 -407.675274 -941.001838 -320.163485    0.0    0.0   \n",
            "...       ...          ...         ...         ...         ...    ...    ...   \n",
            "427046  163.0  -698.319730   92.964563   -5.252689  -57.966579    0.0    0.0   \n",
            "427047  164.0  -735.782307   -2.036376  -62.196406 -125.920562    0.0    0.0   \n",
            "427048  164.0  -759.089364  -58.763178  -92.340000 -159.751697    0.0    0.0   \n",
            "427049  165.0  -717.879406   36.473374  -33.522593  -90.739323    0.0    0.0   \n",
            "427050  165.0  -699.123808   93.458230   -7.044102  -55.195313    0.0    0.0   \n",
            "\n",
            "        acc_z  resistance_1  resistance_2  resistance_3  resistance_4  \\\n",
            "0         0.0           0.0           0.0           0.0           0.0   \n",
            "1         0.0           0.0           0.0           0.0           0.0   \n",
            "2         0.0           0.0           0.0           0.0           0.0   \n",
            "3         0.0           0.0           0.0           0.0           0.0   \n",
            "4         0.0           0.0           0.0           0.0           0.0   \n",
            "...       ...           ...           ...           ...           ...   \n",
            "427046    0.0           0.0           0.0           0.0           0.0   \n",
            "427047    0.0           0.0           0.0           0.0           0.0   \n",
            "427048    0.0           0.0           0.0           0.0           0.0   \n",
            "427049    0.0           0.0           0.0           0.0           0.0   \n",
            "427050    0.0           0.0           0.0           0.0           0.0   \n",
            "\n",
            "        resistance_5     timestamp  marker                      class  \n",
            "0                0.0  1.704024e+09     0.0                 eyes_blink  \n",
            "1                0.0  1.704024e+09     0.0                 eyes_blink  \n",
            "2                0.0  1.704024e+09     0.0                 eyes_blink  \n",
            "3                0.0  1.704024e+09     0.0                 eyes_blink  \n",
            "4                0.0  1.704024e+09     0.0                 eyes_blink  \n",
            "...              ...           ...     ...                        ...  \n",
            "427046           0.0  1.704118e+09     0.0  physical_motor_activation  \n",
            "427047           0.0  1.704118e+09     0.0  physical_motor_activation  \n",
            "427048           0.0  1.704118e+09     0.0  physical_motor_activation  \n",
            "427049           0.0  1.704118e+09     0.0  physical_motor_activation  \n",
            "427050           0.0  1.704118e+09     0.0  physical_motor_activation  \n",
            "\n",
            "[427051 rows x 16 columns]\n",
            "\n",
            "DataFrame after removing specified columns:\n",
            "          channel_1   channel_2   channel_3   channel_4  \\\n",
            "0      -1009.670141 -393.942362 -930.014012 -308.921346   \n",
            "1       -999.179721 -378.260961 -911.722161 -313.925332   \n",
            "2       -985.618844 -377.640138 -923.992773 -321.749203   \n",
            "3       -997.747340 -395.423362 -938.873835 -323.286302   \n",
            "4       -999.497613 -407.675274 -941.001838 -320.163485   \n",
            "...             ...         ...         ...         ...   \n",
            "427046  -698.319730   92.964563   -5.252689  -57.966579   \n",
            "427047  -735.782307   -2.036376  -62.196406 -125.920562   \n",
            "427048  -759.089364  -58.763178  -92.340000 -159.751697   \n",
            "427049  -717.879406   36.473374  -33.522593  -90.739323   \n",
            "427050  -699.123808   93.458230   -7.044102  -55.195313   \n",
            "\n",
            "                            class  \n",
            "0                      eyes_blink  \n",
            "1                      eyes_blink  \n",
            "2                      eyes_blink  \n",
            "3                      eyes_blink  \n",
            "4                      eyes_blink  \n",
            "...                           ...  \n",
            "427046  physical_motor_activation  \n",
            "427047  physical_motor_activation  \n",
            "427048  physical_motor_activation  \n",
            "427049  physical_motor_activation  \n",
            "427050  physical_motor_activation  \n",
            "\n",
            "[427051 rows x 5 columns]\n"
          ]
        }
      ],
      "source": [
        "# df = pd.DataFrame(data)\n",
        "\n",
        "print(\"Original DataFrame:\")\n",
        "print(df)\n",
        "\n",
        "# Specify the columns you want to remove\n",
        "columns_to_remove = ['count', 'acc_x','acc_y', 'acc_z', 'resistance_1', 'resistance_2', 'resistance_3', 'resistance_4', 'resistance_5', 'timestamp', 'marker']\n",
        "\n",
        "# Removing specified columns\n",
        "df = df.drop(columns_to_remove, axis=1)\n",
        "\n",
        "print(\"\\nDataFrame after removing specified columns:\")\n",
        "print(df)"
      ]
    },
    {
      "cell_type": "markdown",
      "metadata": {},
      "source": [
        "## EDA"
      ]
    },
    {
      "cell_type": "code",
      "execution_count": 9,
      "metadata": {},
      "outputs": [
        {
          "data": {
            "image/png": "[encoded data removed]",
            "text/plain": [
              "<Figure size 640x480 with 1 Axes>"
            ]
          },
          "metadata": {},
          "output_type": "display_data"
        }
      ],
      "source": [
        "# Assuming you have a dataframe named df with a column named 'Class'\n",
        "# Count the number of classes\n",
        "class_counts = df['class'].value_counts()\n",
        "\n",
        "# Create pie chart\n",
        "fig, ax = plt.subplots()\n",
        "ax.pie(class_counts, labels=class_counts.index, autopct='%1.1f%%')\n",
        "ax.axis('equal')  # Equal aspect ratio ensures that pie is drawn as a circle.\n",
        "\n",
        "plt.show()"
      ]
    },
    {
      "cell_type": "markdown",
      "metadata": {},
      "source": [
        "### get only required classes"
      ]
    },
    {
      "cell_type": "code",
      "execution_count": 10,
      "metadata": {},
      "outputs": [
        {
          "name": "stdout",
          "output_type": "stream",
          "text": [
            "<bound method NDFrame.head of          channel_1   channel_2   channel_3   channel_4  \\\n",
            "11894  -634.363700  216.115729 -485.345517   50.299784   \n",
            "11895  -629.980538  203.171935 -493.947287   60.255398   \n",
            "11896  -607.234466  215.906294 -482.196521   70.368088   \n",
            "11897  -627.074635  231.591435 -475.846171   57.442993   \n",
            "11898  -635.885840  208.879022 -495.267471   46.410289   \n",
            "...            ...         ...         ...         ...   \n",
            "321821 -481.321384  287.740423  114.003370  146.882701   \n",
            "321822 -539.431950  161.832951   28.823409   46.324271   \n",
            "321823 -527.266055  197.833228   61.652251   82.979030   \n",
            "321824 -455.856406  332.899715  154.599984  194.682362   \n",
            "321825 -489.272412  287.639445  115.820962  154.138107   \n",
            "\n",
            "                            class  \n",
            "11894                 eyes_closed  \n",
            "11895                 eyes_closed  \n",
            "11896                 eyes_closed  \n",
            "11897                 eyes_closed  \n",
            "11898                 eyes_closed  \n",
            "...                           ...  \n",
            "321821  eyes_opened_motor_imagery  \n",
            "321822  eyes_opened_motor_imagery  \n",
            "321823  eyes_opened_motor_imagery  \n",
            "321824  eyes_opened_motor_imagery  \n",
            "321825  eyes_opened_motor_imagery  \n",
            "\n",
            "[214643 rows x 5 columns]>\n"
          ]
        }
      ],
      "source": [
        "\n",
        "# import pandas as pd\n",
        "\n",
        "# Assuming you have a dataframe `df` and you want to drop rows where `class` column has value `specific_value`\n",
        "\n",
        "df = df[df['class'] != 'eyes_blink']\n",
        "df = df[df['class'] != 'eyes_opened_movement']\n",
        "df = df[df['class'] != 'eyes_closed_movement']\n",
        "# df = df[df['class'] != 'eyes_closed']\n",
        "df = df[df['class'] != 'eyes_closed_motor_imagery']\n",
        "df = df[df['class'] != 'physical_motor_activation']\n",
        "print(df.head)\n"
      ]
    },
    {
      "cell_type": "code",
      "execution_count": 11,
      "metadata": {},
      "outputs": [],
      "source": [
        "df.loc[df['class'] == 'eyes_opened', 'class'] = 'eyes_static'\n",
        "df.loc[df['class'] == 'eyes_closed', 'class'] = 'eyes_static'"
      ]
    },
    {
      "cell_type": "code",
      "execution_count": 12,
      "metadata": {},
      "outputs": [
        {
          "data": {
            "image/png": "[encoded data removed]",
            "text/plain": [
              "<Figure size 640x480 with 1 Axes>"
            ]
          },
          "metadata": {},
          "output_type": "display_data"
        }
      ],
      "source": [
        "class_counts = df['class'].value_counts()\n",
        "\n",
        "# Create pie chart\n",
        "fig, ax = plt.subplots()\n",
        "ax.pie(class_counts, labels=class_counts.index, autopct='%1.1f%%')\n",
        "ax.axis('equal')  # Equal aspect ratio ensures that pie is drawn as a circle.\n",
        "\n",
        "plt.show()"
      ]
    },
    {
      "cell_type": "code",
      "execution_count": 13,
      "metadata": {},
      "outputs": [
        {
          "data": {
            "text/plain": [
              "(214643, 5)"
            ]
          },
          "execution_count": 13,
          "metadata": {},
          "output_type": "execute_result"
        }
      ],
      "source": [
        "df.shape"
      ]
    },
    {
      "cell_type": "code",
      "execution_count": 14,
      "metadata": {},
      "outputs": [
        {
          "name": "stdout",
          "output_type": "stream",
          "text": [
            "<class 'pandas.core.frame.DataFrame'>\n",
            "Index: 214643 entries, 11894 to 321825\n",
            "Data columns (total 5 columns):\n",
            " #   Column     Non-Null Count   Dtype  \n",
            "---  ------     --------------   -----  \n",
            " 0   channel_1  214643 non-null  float64\n",
            " 1   channel_2  214643 non-null  float64\n",
            " 2   channel_3  214643 non-null  float64\n",
            " 3   channel_4  214643 non-null  float64\n",
            " 4   class      214643 non-null  object \n",
            "dtypes: float64(4), object(1)\n",
            "memory usage: 9.8+ MB\n"
          ]
        }
      ],
      "source": [
        "df.info()"
      ]
    },
    {
      "cell_type": "code",
      "execution_count": 15,
      "metadata": {},
      "outputs": [
        {
          "data": {
            "text/plain": [
              "channel_1    0\n",
              "channel_2    0\n",
              "channel_3    0\n",
              "channel_4    0\n",
              "class        0\n",
              "dtype: int64"
            ]
          },
          "execution_count": 15,
          "metadata": {},
          "output_type": "execute_result"
        }
      ],
      "source": [
        "df.isnull().sum()"
      ]
    },
    {
      "cell_type": "code",
      "execution_count": 16,
      "metadata": {},
      "outputs": [
        {
          "data": {
            "text/plain": [
              "class\n",
              "eyes_static                  119486\n",
              "eyes_opened_motor_imagery     95157\n",
              "Name: count, dtype: int64"
            ]
          },
          "execution_count": 16,
          "metadata": {},
          "output_type": "execute_result"
        }
      ],
      "source": [
        "df['class'].value_counts()"
      ]
    },
    {
      "cell_type": "code",
      "execution_count": 17,
      "metadata": {},
      "outputs": [],
      "source": [
        "eyes_static = df[df['class']=='eyes_static'].head(95157).copy()\n",
        "eyes_opened_motor_imagery = df[df['class']=='eyes_opened_motor_imagery'].head(95157).copy()"
      ]
    },
    {
      "cell_type": "code",
      "execution_count": 18,
      "metadata": {},
      "outputs": [
        {
          "data": {
            "text/plain": [
              "(190314, 5)"
            ]
          },
          "execution_count": 18,
          "metadata": {},
          "output_type": "execute_result"
        }
      ],
      "source": [
        "balanced_data = pd.DataFrame()\n",
        "balanced_data = pd.concat([balanced_data, eyes_opened_motor_imagery, eyes_static], ignore_index=True)\n",
        "balanced_data.shape"
      ]
    },
    {
      "cell_type": "code",
      "execution_count": 20,
      "metadata": {},
      "outputs": [
        {
          "data": {
            "text/html": [
              "<div>\n",
              "<style scoped>\n",
              "    .dataframe tbody tr th:only-of-type {\n",
              "        vertical-align: middle;\n",
              "    }\n",
              "\n",
              "    .dataframe tbody tr th {\n",
              "        vertical-align: top;\n",
              "    }\n",
              "\n",
              "    .dataframe thead th {\n",
              "        text-align: right;\n",
              "    }\n",
              "</style>\n",
              "<table border=\"1\" class=\"dataframe\">\n",
              "  <thead>\n",
              "    <tr style=\"text-align: right;\">\n",
              "      <th></th>\n",
              "      <th>channel_1</th>\n",
              "      <th>channel_2</th>\n",
              "      <th>channel_3</th>\n",
              "      <th>channel_4</th>\n",
              "      <th>class</th>\n",
              "      <th>label</th>\n",
              "    </tr>\n",
              "  </thead>\n",
              "  <tbody>\n",
              "    <tr>\n",
              "      <th>190309</th>\n",
              "      <td>-801.956097</td>\n",
              "      <td>17.487772</td>\n",
              "      <td>-578.280161</td>\n",
              "      <td>-12.156545</td>\n",
              "      <td>eyes_static</td>\n",
              "      <td>1</td>\n",
              "    </tr>\n",
              "    <tr>\n",
              "      <th>190310</th>\n",
              "      <td>-792.299676</td>\n",
              "      <td>30.334329</td>\n",
              "      <td>-569.955143</td>\n",
              "      <td>-17.283948</td>\n",
              "      <td>eyes_static</td>\n",
              "      <td>1</td>\n",
              "    </tr>\n",
              "    <tr>\n",
              "      <th>190311</th>\n",
              "      <td>-795.444931</td>\n",
              "      <td>11.242139</td>\n",
              "      <td>-594.997514</td>\n",
              "      <td>-34.756760</td>\n",
              "      <td>eyes_static</td>\n",
              "      <td>1</td>\n",
              "    </tr>\n",
              "    <tr>\n",
              "      <th>190312</th>\n",
              "      <td>-779.210026</td>\n",
              "      <td>-3.968034</td>\n",
              "      <td>-609.590603</td>\n",
              "      <td>-10.802701</td>\n",
              "      <td>eyes_static</td>\n",
              "      <td>1</td>\n",
              "    </tr>\n",
              "    <tr>\n",
              "      <th>190313</th>\n",
              "      <td>-810.696243</td>\n",
              "      <td>15.225133</td>\n",
              "      <td>-580.389464</td>\n",
              "      <td>-12.844686</td>\n",
              "      <td>eyes_static</td>\n",
              "      <td>1</td>\n",
              "    </tr>\n",
              "  </tbody>\n",
              "</table>\n",
              "</div>"
            ],
            "text/plain": [
              "         channel_1  channel_2   channel_3  channel_4        class  label\n",
              "190309 -801.956097  17.487772 -578.280161 -12.156545  eyes_static      1\n",
              "190310 -792.299676  30.334329 -569.955143 -17.283948  eyes_static      1\n",
              "190311 -795.444931  11.242139 -594.997514 -34.756760  eyes_static      1\n",
              "190312 -779.210026  -3.968034 -609.590603 -10.802701  eyes_static      1\n",
              "190313 -810.696243  15.225133 -580.389464 -12.844686  eyes_static      1"
            ]
          },
          "execution_count": 20,
          "metadata": {},
          "output_type": "execute_result"
        }
      ],
      "source": [
        "from sklearn.preprocessing import LabelEncoder\n",
        "label = LabelEncoder()\n",
        "balanced_data['label'] = label.fit_transform(balanced_data['class'])\n",
        "balanced_data.tail()"
      ]
    },
    {
      "cell_type": "code",
      "execution_count": 21,
      "metadata": {},
      "outputs": [],
      "source": [
        "X = balanced_data[['channel_1', 'channel_2', 'channel_3', 'channel_4']]\n",
        "y = balanced_data['label']"
      ]
    },
    {
      "cell_type": "markdown",
      "metadata": {},
      "source": [
        "### Standardized data"
      ]
    },
    {
      "cell_type": "code",
      "execution_count": 22,
      "metadata": {},
      "outputs": [
        {
          "data": {
            "text/html": [
              "<div>\n",
              "<style scoped>\n",
              "    .dataframe tbody tr th:only-of-type {\n",
              "        vertical-align: middle;\n",
              "    }\n",
              "\n",
              "    .dataframe tbody tr th {\n",
              "        vertical-align: top;\n",
              "    }\n",
              "\n",
              "    .dataframe thead th {\n",
              "        text-align: right;\n",
              "    }\n",
              "</style>\n",
              "<table border=\"1\" class=\"dataframe\">\n",
              "  <thead>\n",
              "    <tr style=\"text-align: right;\">\n",
              "      <th></th>\n",
              "      <th>channel_1</th>\n",
              "      <th>channel_2</th>\n",
              "      <th>channel_3</th>\n",
              "      <th>channel_4</th>\n",
              "      <th>label</th>\n",
              "    </tr>\n",
              "  </thead>\n",
              "  <tbody>\n",
              "    <tr>\n",
              "      <th>0</th>\n",
              "      <td>-1.395937</td>\n",
              "      <td>-1.560658</td>\n",
              "      <td>-1.275400</td>\n",
              "      <td>-1.533250</td>\n",
              "      <td>0</td>\n",
              "    </tr>\n",
              "    <tr>\n",
              "      <th>1</th>\n",
              "      <td>-1.363410</td>\n",
              "      <td>-1.537233</td>\n",
              "      <td>-1.270710</td>\n",
              "      <td>-1.526287</td>\n",
              "      <td>0</td>\n",
              "    </tr>\n",
              "    <tr>\n",
              "      <th>2</th>\n",
              "      <td>-1.391257</td>\n",
              "      <td>-1.562424</td>\n",
              "      <td>-1.298505</td>\n",
              "      <td>-1.549968</td>\n",
              "      <td>0</td>\n",
              "    </tr>\n",
              "    <tr>\n",
              "      <th>3</th>\n",
              "      <td>-1.308581</td>\n",
              "      <td>-1.556416</td>\n",
              "      <td>-1.297388</td>\n",
              "      <td>-1.507035</td>\n",
              "      <td>0</td>\n",
              "    </tr>\n",
              "    <tr>\n",
              "      <th>4</th>\n",
              "      <td>-1.326819</td>\n",
              "      <td>-1.556145</td>\n",
              "      <td>-1.275812</td>\n",
              "      <td>-1.487703</td>\n",
              "      <td>0</td>\n",
              "    </tr>\n",
              "    <tr>\n",
              "      <th>...</th>\n",
              "      <td>...</td>\n",
              "      <td>...</td>\n",
              "      <td>...</td>\n",
              "      <td>...</td>\n",
              "      <td>...</td>\n",
              "    </tr>\n",
              "    <tr>\n",
              "      <th>190309</th>\n",
              "      <td>-0.401017</td>\n",
              "      <td>0.136461</td>\n",
              "      <td>-0.116146</td>\n",
              "      <td>0.239723</td>\n",
              "      <td>1</td>\n",
              "    </tr>\n",
              "    <tr>\n",
              "      <th>190310</th>\n",
              "      <td>-0.358014</td>\n",
              "      <td>0.172352</td>\n",
              "      <td>-0.097437</td>\n",
              "      <td>0.221149</td>\n",
              "      <td>1</td>\n",
              "    </tr>\n",
              "    <tr>\n",
              "      <th>190311</th>\n",
              "      <td>-0.372021</td>\n",
              "      <td>0.119012</td>\n",
              "      <td>-0.153716</td>\n",
              "      <td>0.157855</td>\n",
              "      <td>1</td>\n",
              "    </tr>\n",
              "    <tr>\n",
              "      <th>190312</th>\n",
              "      <td>-0.299721</td>\n",
              "      <td>0.076517</td>\n",
              "      <td>-0.186512</td>\n",
              "      <td>0.244627</td>\n",
              "      <td>1</td>\n",
              "    </tr>\n",
              "    <tr>\n",
              "      <th>190313</th>\n",
              "      <td>-0.439940</td>\n",
              "      <td>0.130140</td>\n",
              "      <td>-0.120886</td>\n",
              "      <td>0.237230</td>\n",
              "      <td>1</td>\n",
              "    </tr>\n",
              "  </tbody>\n",
              "</table>\n",
              "<p>190314 rows × 5 columns</p>\n",
              "</div>"
            ],
            "text/plain": [
              "        channel_1  channel_2  channel_3  channel_4  label\n",
              "0       -1.395937  -1.560658  -1.275400  -1.533250      0\n",
              "1       -1.363410  -1.537233  -1.270710  -1.526287      0\n",
              "2       -1.391257  -1.562424  -1.298505  -1.549968      0\n",
              "3       -1.308581  -1.556416  -1.297388  -1.507035      0\n",
              "4       -1.326819  -1.556145  -1.275812  -1.487703      0\n",
              "...           ...        ...        ...        ...    ...\n",
              "190309  -0.401017   0.136461  -0.116146   0.239723      1\n",
              "190310  -0.358014   0.172352  -0.097437   0.221149      1\n",
              "190311  -0.372021   0.119012  -0.153716   0.157855      1\n",
              "190312  -0.299721   0.076517  -0.186512   0.244627      1\n",
              "190313  -0.439940   0.130140  -0.120886   0.237230      1\n",
              "\n",
              "[190314 rows x 5 columns]"
            ]
          },
          "execution_count": 22,
          "metadata": {},
          "output_type": "execute_result"
        }
      ],
      "source": [
        "from sklearn.preprocessing import StandardScaler\n",
        "scaler = StandardScaler()\n",
        "X = scaler.fit_transform(X)\n",
        "\n",
        "scaled_X = pd.DataFrame(data = X, columns = ['channel_1', 'channel_2', 'channel_3', 'channel_4'])\n",
        "scaled_X['label'] = y.values\n",
        "\n",
        "scaled_X"
      ]
    },
    {
      "cell_type": "markdown",
      "metadata": {},
      "source": [
        "### Frame preparation\n"
      ]
    },
    {
      "cell_type": "code",
      "execution_count": 23,
      "metadata": {},
      "outputs": [],
      "source": [
        "import scipy.stats as stats"
      ]
    },
    {
      "cell_type": "code",
      "execution_count": 24,
      "metadata": {},
      "outputs": [],
      "source": [
        "Fs = 200\n",
        "frame_size = Fs*4 # 80\n",
        "hop_size = Fs*2 # 40"
      ]
    },
    {
      "cell_type": "code",
      "execution_count": 25,
      "metadata": {},
      "outputs": [],
      "source": [
        "def get_frames(df, frame_size, hop_size):\n",
        "\n",
        "    N_FEATURES = 4\n",
        "\n",
        "    frames = []\n",
        "    labels = []\n",
        "    for i in range(0, len(df) - frame_size, hop_size):\n",
        "        channel_1 = df['channel_1'].values[i: i + frame_size]\n",
        "        channel_2 = df['channel_2'].values[i: i + frame_size]\n",
        "        channel_3 = df['channel_3'].values[i: i + frame_size]\n",
        "        channel_4 = df['channel_4'].values[i: i + frame_size]\n",
        "        \n",
        "        # Retrieve the most often used label in this segment\n",
        "        label = stats.mode(df['label'][i: i + frame_size])[0]\n",
        "        # print(label)\n",
        "        frames.append([channel_1, channel_2, channel_3, channel_4])\n",
        "        labels.append(label)\n",
        "\n",
        "    # Bring the segments into a better shape\n",
        "    frames = np.asarray(frames).reshape(-1, frame_size, N_FEATURES)\n",
        "    labels = np.asarray(labels)\n",
        "\n",
        "    return frames, labels"
      ]
    },
    {
      "cell_type": "code",
      "execution_count": 26,
      "metadata": {},
      "outputs": [],
      "source": [
        "X, y = get_frames(scaled_X, frame_size, hop_size)"
      ]
    },
    {
      "cell_type": "code",
      "execution_count": 27,
      "metadata": {},
      "outputs": [
        {
          "data": {
            "text/plain": [
              "((474, 800, 4), (474,))"
            ]
          },
          "execution_count": 27,
          "metadata": {},
          "output_type": "execute_result"
        }
      ],
      "source": [
        "X.shape, y.shape"
      ]
    },
    {
      "cell_type": "markdown",
      "metadata": {},
      "source": [
        "### Train test split"
      ]
    },
    {
      "cell_type": "code",
      "execution_count": 28,
      "metadata": {},
      "outputs": [],
      "source": [
        "from sklearn.model_selection import train_test_split\n",
        "x_train, x_test, y_train, y_test = train_test_split(X, y, test_size = 0.2, random_state = 27, stratify = y)"
      ]
    },
    {
      "cell_type": "code",
      "execution_count": 29,
      "metadata": {},
      "outputs": [
        {
          "data": {
            "text/plain": [
              "((379, 800, 4), (95, 800, 4), (379,), (95,))"
            ]
          },
          "execution_count": 29,
          "metadata": {},
          "output_type": "execute_result"
        }
      ],
      "source": [
        "x_train.shape, x_test.shape, y_train.shape, y_test.shape"
      ]
    },
    {
      "cell_type": "code",
      "execution_count": 30,
      "metadata": {},
      "outputs": [
        {
          "name": "stdout",
          "output_type": "stream",
          "text": [
            "2\n"
          ]
        }
      ],
      "source": [
        "num_classes = len(np.unique(y_train))\n",
        "print(num_classes)"
      ]
    },
    {
      "cell_type": "code",
      "execution_count": 31,
      "metadata": {},
      "outputs": [],
      "source": [
        "idx = np.random.permutation(len(x_train))\n",
        "x_train = x_train[idx]\n",
        "y_train = y_train[idx]"
      ]
    },
    {
      "cell_type": "code",
      "execution_count": 32,
      "metadata": {},
      "outputs": [
        {
          "data": {
            "text/plain": [
              "(379, 800, 4)"
            ]
          },
          "execution_count": 32,
          "metadata": {},
          "output_type": "execute_result"
        }
      ],
      "source": [
        "x_train.shape"
      ]
    },
    {
      "cell_type": "code",
      "execution_count": 33,
      "metadata": {},
      "outputs": [
        {
          "name": "stdout",
          "output_type": "stream",
          "text": [
            "2.15.0\n"
          ]
        }
      ],
      "source": [
        "print(keras.__version__)"
      ]
    },
    {
      "cell_type": "markdown",
      "metadata": {
        "id": "gLky0IVfhg0U"
      },
      "source": [
        "## Build a model\n",
        "\n",
        "We build a Fully Convolutional Neural Network originally proposed in\n",
        "[this paper](https://arxiv.org/abs/1611.06455).\n",
        "The implementation is based on the TF 2 version provided\n",
        "[here](https://github.com/hfawaz/dl-4-tsc/).\n",
        "The following hyperparameters (kernel_size, filters, the usage of BatchNorm) were found\n",
        "via random search using [KerasTuner](https://github.com/keras-team/keras-tuner)."
      ]
    },
    {
      "cell_type": "code",
      "execution_count": 64,
      "metadata": {
        "colab": {
          "base_uri": "https://localhost:8080/",
          "height": 1000
        },
        "id": "wrHt8uy4hg0U",
        "outputId": "7042ab5f-ae6d-405e-f2df-6f74295ba7cc"
      },
      "outputs": [
        {
          "name": "stdout",
          "output_type": "stream",
          "text": [
            "You must install pydot (`pip install pydot`) and install graphviz (see instructions at https://graphviz.gitlab.io/download/) for plot_model to work.\n"
          ]
        }
      ],
      "source": [
        "\n",
        "def make_model(input_shape):\n",
        "    input_layer = keras.layers.Input(input_shape)\n",
        "\n",
        "    conv1 = keras.layers.Conv1D(filters=64, kernel_size=3, padding=\"same\")(input_layer)\n",
        "    conv1 = keras.layers.BatchNormalization()(conv1)\n",
        "    conv1 = keras.layers.ReLU()(conv1)\n",
        "\n",
        "    conv2 = keras.layers.Conv1D(filters=64, kernel_size=3, padding=\"same\")(conv1)\n",
        "    conv2 = keras.layers.BatchNormalization()(conv2)\n",
        "    conv2 = keras.layers.ReLU()(conv2)\n",
        "\n",
        "    conv3 = keras.layers.Conv1D(filters=64, kernel_size=3, padding=\"same\")(conv2)\n",
        "    conv3 = keras.layers.BatchNormalization()(conv3)\n",
        "    conv3 = keras.layers.ReLU()(conv3)\n",
        "\n",
        "    gap = keras.layers.GlobalAveragePooling1D()(conv3)\n",
        "    mlp_vector = keras.layers.Dropout(0.2)(gap)\n",
        "\n",
        "    output_layer = keras.layers.Dense(num_classes, activation=\"softmax\")(mlp_vector)\n",
        "\n",
        "    return keras.models.Model(inputs=input_layer, outputs=output_layer)\n",
        "\n",
        "\n",
        "model = make_model(input_shape=x_train.shape[1:])\n",
        "keras.utils.plot_model(model, show_shapes=True)"
      ]
    },
    {
      "cell_type": "markdown",
      "metadata": {
        "id": "g_I8WuKMhg0U"
      },
      "source": [
        "## Train the model"
      ]
    },
    {
      "cell_type": "code",
      "execution_count": 81,
      "metadata": {
        "id": "Fe231jIvhg0U"
      },
      "outputs": [
        {
          "name": "stdout",
          "output_type": "stream",
          "text": [
            "Epoch 1/2\n",
            "10/10 [==============================] - ETA: 0s - loss: 0.0012 - sparse_categorical_accuracy: 1.0000WARNING:tensorflow:5 out of the last 610 calls to <function Model.make_test_function.<locals>.test_function at 0x0000027808A009D0> triggered tf.function retracing. Tracing is expensive and the excessive number of tracings could be due to (1) creating @tf.function repeatedly in a loop, (2) passing tensors with different shapes, (3) passing Python objects instead of tensors. For (1), please define your @tf.function outside of the loop. For (2), @tf.function has reduce_retracing=True option that can avoid unnecessary retracing. For (3), please refer to https://www.tensorflow.org/guide/function#controlling_retracing and https://www.tensorflow.org/api_docs/python/tf/function for  more details.\n",
            "10/10 [==============================] - 3s 132ms/step - loss: 0.0012 - sparse_categorical_accuracy: 1.0000 - val_loss: 1.3621e-05 - val_sparse_categorical_accuracy: 1.0000 - lr: 0.0010\n",
            "Epoch 2/2\n",
            "10/10 [==============================] - 1s 106ms/step - loss: 4.9644e-04 - sparse_categorical_accuracy: 1.0000 - val_loss: 4.9993e-05 - val_sparse_categorical_accuracy: 1.0000 - lr: 0.0010\n"
          ]
        }
      ],
      "source": [
        "epochs = 50\n",
        "batch_size = 32\n",
        "\n",
        "callbacks = [\n",
        "    keras.callbacks.ModelCheckpoint(\n",
        "        \"best_model.keras\", save_best_only=True, monitor=\"val_loss\"\n",
        "    ),\n",
        "    keras.callbacks.ReduceLROnPlateau(\n",
        "        monitor=\"val_loss\", factor=0.5, patience=20, min_lr=0.0001\n",
        "    ),\n",
        "    keras.callbacks.EarlyStopping(monitor=\"val_loss\", patience=50, verbose=1),\n",
        "]\n",
        "model.compile(\n",
        "    optimizer=\"adam\",\n",
        "    loss=\"sparse_categorical_crossentropy\",\n",
        "    metrics=[\"sparse_categorical_accuracy\"],\n",
        ")\n",
        "history = model.fit(\n",
        "    x_train,\n",
        "    y_train,\n",
        "    batch_size=batch_size,\n",
        "    epochs=epochs,\n",
        "    callbacks=callbacks,\n",
        "    validation_split=0.2,\n",
        "    verbose=1,\n",
        ")"
      ]
    },
    {
      "cell_type": "markdown",
      "metadata": {
        "id": "QDw1vp-Chg0U"
      },
      "source": [
        "## Evaluate model on test data"
      ]
    },
    {
      "cell_type": "code",
      "execution_count": 82,
      "metadata": {
        "colab": {
          "base_uri": "https://localhost:8080/"
        },
        "id": "tRHOWYC5hg0U",
        "outputId": "10044c63-b49c-4900-feca-bb9af7f97b76"
      },
      "outputs": [
        {
          "name": "stdout",
          "output_type": "stream",
          "text": [
            "3/3 [==============================] - 0s 16ms/step - loss: 1.3799e-05 - sparse_categorical_accuracy: 1.0000\n",
            "Test accuracy 1.0\n",
            "Test loss 1.379913737764582e-05\n"
          ]
        }
      ],
      "source": [
        "model = keras.models.load_model(\"best_model.keras\")\n",
        "\n",
        "test_loss, test_acc = model.evaluate(x_test, y_test)\n",
        "\n",
        "print(\"Test accuracy\", test_acc)\n",
        "print(\"Test loss\", test_loss)"
      ]
    },
    {
      "cell_type": "markdown",
      "metadata": {
        "id": "hvhXJTDChg0V"
      },
      "source": [
        "## Plot the model's training and validation loss"
      ]
    },
    {
      "cell_type": "code",
      "execution_count": 83,
      "metadata": {
        "colab": {
          "base_uri": "https://localhost:8080/",
          "height": 476
        },
        "id": "mfB-MvVvhg0V",
        "outputId": "e8740b74-bd23-4cb5-d68e-2a7c3952176c"
      },
      "outputs": [
        {
          "data": {
            "image/png": "[encoded data removed]",
            "text/plain": [
              "<Figure size 640x480 with 1 Axes>"
            ]
          },
          "metadata": {},
          "output_type": "display_data"
        }
      ],
      "source": [
        "metric = \"sparse_categorical_accuracy\"\n",
        "plt.figure()\n",
        "plt.plot(history.history[metric])\n",
        "plt.plot(history.history[\"val_\" + metric])\n",
        "plt.title(\"model \" + metric)\n",
        "plt.ylabel(metric, fontsize=\"large\")\n",
        "plt.xlabel(\"epoch\", fontsize=\"large\")\n",
        "plt.legend([\"train\", \"val\"], loc=\"best\")\n",
        "plt.show()\n",
        "plt.close()"
      ]
    },
    {
      "cell_type": "markdown",
      "metadata": {
        "id": "agLyepz8hg0V"
      },
      "source": [
        "We can see how the training accuracy reaches almost 0.95 after 100 epochs.\n",
        "However, by observing the validation accuracy we can see how the network still needs\n",
        "training until it reaches almost 0.97 for both the validation and the training accuracy\n",
        "after 200 epochs. Beyond the 200th epoch, if we continue on training, the validation\n",
        "accuracy will start decreasing while the training accuracy will continue on increasing:\n",
        "the model starts overfitting."
      ]
    },
    {
      "cell_type": "markdown",
      "metadata": {
        "id": "9o9aJOCrms8C"
      },
      "source": [
        "### create ypred"
      ]
    },
    {
      "cell_type": "code",
      "execution_count": 68,
      "metadata": {
        "colab": {
          "base_uri": "https://localhost:8080/"
        },
        "id": "HstfEb7bmsqz",
        "outputId": "5d38ff85-45ff-4014-9ae8-39fe1b3b3538"
      },
      "outputs": [
        {
          "name": "stdout",
          "output_type": "stream",
          "text": [
            "3/3 [==============================] - 0s 17ms/step\n"
          ]
        }
      ],
      "source": [
        "# prompt: how to predict time series data with keras model\n",
        "\n",
        "ypred = model.predict(x_test)\n"
      ]
    },
    {
      "cell_type": "code",
      "execution_count": 69,
      "metadata": {},
      "outputs": [
        {
          "data": {
            "text/plain": [
              "array([[3.23589156e-05, 9.99967694e-01],\n",
              "       [9.99913216e-01, 8.67516719e-05],\n",
              "       [9.99972582e-01, 2.74476533e-05],\n",
              "       [3.37028141e-05, 9.99966264e-01],\n",
              "       [9.99917030e-01, 8.29706914e-05],\n",
              "       [9.99986887e-01, 1.31065926e-05],\n",
              "       [9.99958754e-01, 4.12908084e-05],\n",
              "       [3.78330733e-05, 9.99962211e-01],\n",
              "       [9.99908328e-01, 9.16117788e-05],\n",
              "       [8.97576319e-06, 9.99991059e-01],\n",
              "       [9.99805391e-01, 1.94665903e-04],\n",
              "       [3.62369392e-05, 9.99963760e-01],\n",
              "       [9.99986887e-01, 1.30729877e-05],\n",
              "       [1.65788824e-05, 9.99983430e-01],\n",
              "       [3.30140138e-05, 9.99966979e-01],\n",
              "       [6.08062073e-05, 9.99939203e-01],\n",
              "       [5.28837481e-05, 9.99947071e-01],\n",
              "       [3.62073006e-05, 9.99963760e-01],\n",
              "       [3.59410296e-05, 9.99963999e-01],\n",
              "       [9.99917865e-01, 8.20883943e-05],\n",
              "       [9.99960065e-01, 3.99730598e-05],\n",
              "       [9.99977946e-01, 2.20632173e-05],\n",
              "       [2.56985822e-05, 9.99974251e-01],\n",
              "       [9.99968171e-01, 3.17796294e-05],\n",
              "       [9.99968886e-01, 3.11024487e-05],\n",
              "       [3.14220415e-05, 9.99968529e-01],\n",
              "       [2.98310370e-05, 9.99970198e-01],\n",
              "       [9.99817908e-01, 1.82131873e-04],\n",
              "       [9.00192481e-06, 9.99990940e-01],\n",
              "       [1.03605080e-05, 9.99989629e-01],\n",
              "       [2.54084243e-05, 9.99974608e-01],\n",
              "       [9.99953985e-01, 4.60156734e-05],\n",
              "       [5.01870163e-05, 9.99949813e-01],\n",
              "       [8.91748823e-06, 9.99991059e-01],\n",
              "       [9.99943733e-01, 5.62892747e-05],\n",
              "       [9.99940515e-01, 5.94473531e-05],\n",
              "       [9.99968648e-01, 3.13739874e-05],\n",
              "       [9.99987483e-01, 1.24770631e-05],\n",
              "       [4.97263391e-05, 9.99950290e-01],\n",
              "       [3.44162545e-05, 9.99965549e-01],\n",
              "       [3.24381326e-05, 9.99967575e-01],\n",
              "       [4.30433029e-05, 9.99956965e-01],\n",
              "       [8.84377368e-06, 9.99991179e-01],\n",
              "       [2.92392888e-05, 9.99970794e-01],\n",
              "       [9.99743640e-01, 2.56323925e-04],\n",
              "       [9.99973893e-01, 2.61621590e-05],\n",
              "       [2.79316137e-05, 9.99972105e-01],\n",
              "       [2.46373511e-05, 9.99975324e-01],\n",
              "       [1.08988788e-05, 9.99989152e-01],\n",
              "       [9.99963641e-01, 3.63158142e-05],\n",
              "       [9.99960303e-01, 3.96446376e-05],\n",
              "       [2.93693465e-05, 9.99970675e-01],\n",
              "       [2.48264842e-05, 9.99975204e-01],\n",
              "       [9.99980927e-01, 1.90505434e-05],\n",
              "       [1.11262980e-05, 9.99988914e-01],\n",
              "       [2.53217786e-05, 9.99974728e-01],\n",
              "       [9.99993086e-01, 6.95211838e-06],\n",
              "       [9.99926686e-01, 7.33431953e-05],\n",
              "       [6.85281848e-05, 9.99931455e-01],\n",
              "       [9.99738395e-01, 2.61594541e-04],\n",
              "       [8.36432373e-05, 9.99916315e-01],\n",
              "       [9.99990821e-01, 9.21910851e-06],\n",
              "       [9.99946594e-01, 5.33744314e-05],\n",
              "       [9.99904156e-01, 9.58715755e-05],\n",
              "       [3.25654291e-05, 9.99967456e-01],\n",
              "       [9.99800503e-01, 1.99499016e-04],\n",
              "       [2.72098896e-05, 9.99972820e-01],\n",
              "       [3.55470293e-05, 9.99964476e-01],\n",
              "       [4.02649712e-05, 9.99959707e-01],\n",
              "       [9.99939084e-01, 6.09298404e-05],\n",
              "       [9.99715865e-01, 2.84099136e-04],\n",
              "       [9.99995708e-01, 4.24592736e-06],\n",
              "       [9.99904156e-01, 9.57789089e-05],\n",
              "       [3.25200235e-05, 9.99967456e-01],\n",
              "       [9.99913454e-01, 8.65031034e-05],\n",
              "       [9.99948144e-01, 5.18558918e-05],\n",
              "       [2.92206387e-05, 9.99970794e-01],\n",
              "       [9.99836922e-01, 1.62994053e-04],\n",
              "       [9.99947071e-01, 5.28811725e-05],\n",
              "       [9.99930859e-01, 6.91584282e-05],\n",
              "       [9.99913931e-01, 8.60923101e-05],\n",
              "       [9.99958277e-01, 4.17585870e-05],\n",
              "       [9.99936819e-01, 6.32360170e-05],\n",
              "       [4.86746467e-05, 9.99951363e-01],\n",
              "       [9.99947190e-01, 5.27486081e-05],\n",
              "       [1.04316925e-04, 9.99895692e-01],\n",
              "       [9.99934316e-01, 6.56282718e-05],\n",
              "       [5.56634513e-05, 9.99944329e-01],\n",
              "       [1.28472084e-05, 9.99987125e-01],\n",
              "       [4.33714522e-05, 9.99956608e-01],\n",
              "       [3.42063213e-05, 9.99965787e-01],\n",
              "       [9.99975562e-01, 2.44313869e-05],\n",
              "       [9.99794424e-01, 2.05544944e-04],\n",
              "       [3.34849065e-05, 9.99966502e-01],\n",
              "       [3.39648395e-05, 9.99966025e-01]], dtype=float32)"
            ]
          },
          "execution_count": 69,
          "metadata": {},
          "output_type": "execute_result"
        }
      ],
      "source": [
        "ypred"
      ]
    },
    {
      "cell_type": "markdown",
      "metadata": {
        "id": "_T6mCBzppC_h"
      },
      "source": [
        "### post processing for ypred"
      ]
    },
    {
      "cell_type": "code",
      "execution_count": 70,
      "metadata": {
        "id": "CiG1CyTPrHpO"
      },
      "outputs": [],
      "source": [
        "# np.set_printoptions(linewidth=200)"
      ]
    },
    {
      "cell_type": "code",
      "execution_count": 71,
      "metadata": {
        "id": "vRS4P9wvpG-7"
      },
      "outputs": [],
      "source": [
        "def convert_to_single_dimension(predictions):\n",
        "    # Get the index of the maximum probability for each prediction\n",
        "    max_indices = np.argmax(predictions, axis=1)\n",
        "\n",
        "    return max_indices"
      ]
    },
    {
      "cell_type": "code",
      "execution_count": 72,
      "metadata": {
        "colab": {
          "base_uri": "https://localhost:8080/"
        },
        "id": "zyqNMzFznCsB",
        "outputId": "86d21fd5-ba36-4467-91ea-b271c0f1a7cb"
      },
      "outputs": [],
      "source": [
        "# ypred"
      ]
    },
    {
      "cell_type": "code",
      "execution_count": 73,
      "metadata": {
        "colab": {
          "base_uri": "https://localhost:8080/"
        },
        "id": "65_55ljApJp2",
        "outputId": "a158dda9-0830-464f-abca-0c2580833f15"
      },
      "outputs": [
        {
          "name": "stdout",
          "output_type": "stream",
          "text": [
            "[1 0 0 1 0 0 0 1 0 1 0 1 0 1 1 1 1 1 1 0 0 0 1 0 0 1 1 0 1 1 1 0 1 1 0 0 0 0 1 1 1 1 1 1 0 0 1 1 1 0 0 1 1 0 1 1 0 0 1 0 1 0 0 0 1 0 1 1 1 0 0 0 0 1 0 0 1 0 0 0 0 0 0 1 0 1 0 1 1 1 1 0 0 1 1]\n"
          ]
        }
      ],
      "source": [
        "converted_predictions = convert_to_single_dimension(ypred)\n",
        "print(converted_predictions)"
      ]
    },
    {
      "cell_type": "code",
      "execution_count": 74,
      "metadata": {
        "colab": {
          "base_uri": "https://localhost:8080/"
        },
        "id": "THQLHm_Jr_UM",
        "outputId": "347df342-26be-45da-a6f7-671510295ffa"
      },
      "outputs": [
        {
          "data": {
            "text/plain": [
              "48"
            ]
          },
          "execution_count": 74,
          "metadata": {},
          "output_type": "execute_result"
        }
      ],
      "source": [
        "np.count_nonzero(converted_predictions == 1)"
      ]
    },
    {
      "cell_type": "code",
      "execution_count": 75,
      "metadata": {
        "colab": {
          "base_uri": "https://localhost:8080/"
        },
        "id": "FDfYxfsEnOx1",
        "outputId": "fbcfc41f-00b4-45e8-cea6-9d0bc8bf5397"
      },
      "outputs": [],
      "source": [
        "# y_test"
      ]
    },
    {
      "cell_type": "code",
      "execution_count": 76,
      "metadata": {
        "colab": {
          "base_uri": "https://localhost:8080/"
        },
        "id": "5wnfqwNCsUgi",
        "outputId": "a023537f-63a5-4a05-cf32-edcbe4c05f06"
      },
      "outputs": [
        {
          "data": {
            "text/plain": [
              "48"
            ]
          },
          "execution_count": 76,
          "metadata": {},
          "output_type": "execute_result"
        }
      ],
      "source": [
        "np.count_nonzero(y_test == 1)"
      ]
    },
    {
      "cell_type": "markdown",
      "metadata": {
        "id": "wJeTCJJ9kblJ"
      },
      "source": [
        "### Confusion matrix"
      ]
    },
    {
      "cell_type": "code",
      "execution_count": 77,
      "metadata": {
        "colab": {
          "base_uri": "https://localhost:8080/",
          "height": 449
        },
        "id": "dT2gLaFYkbL_",
        "outputId": "595c029e-7548-4028-b99f-ed7b9b92f9cc"
      },
      "outputs": [
        {
          "data": {
            "image/png": "[encoded data removed]",
            "text/plain": [
              "<Figure size 640x480 with 2 Axes>"
            ]
          },
          "metadata": {},
          "output_type": "display_data"
        }
      ],
      "source": [
        "from sklearn.metrics import ConfusionMatrixDisplay\n",
        "from sklearn.metrics import confusion_matrix\n",
        "import matplotlib.pyplot as plt\n",
        "\n",
        "labels = [\"0\",\"1\"]\n",
        "\n",
        "cm = confusion_matrix(y_test, converted_predictions)\n",
        "\n",
        "disp = ConfusionMatrixDisplay(confusion_matrix=cm, display_labels=labels)\n",
        "\n",
        "disp.plot(cmap=plt.cm.Blues)\n",
        "plt.show()"
      ]
    },
    {
      "cell_type": "code",
      "execution_count": null,
      "metadata": {
        "id": "kkmtxJD0su3c"
      },
      "outputs": [],
      "source": []
    },
    {
      "cell_type": "code",
      "execution_count": null,
      "metadata": {},
      "outputs": [],
      "source": []
    }
  ],
  "metadata": {
    "accelerator": "GPU",
    "colab": {
      "provenance": [],
      "toc_visible": true
    },
    "kernelspec": {
      "display_name": "Python 3",
      "language": "python",
      "name": "python3"
    },
    "language_info": {
      "codemirror_mode": {
        "name": "ipython",
        "version": 3
      },
      "file_extension": ".py",
      "mimetype": "text/x-python",
      "name": "python",
      "nbconvert_exporter": "python",
      "pygments_lexer": "ipython3",
      "version": "3.10.2"
    }
  },
  "nbformat": 4,
  "nbformat_minor": 0
}
