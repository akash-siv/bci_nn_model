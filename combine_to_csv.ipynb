{
 "cells": [
  {
   "cell_type": "markdown",
   "id": "a6bd12a7-de10-4640-a79a-5dbe60165144",
   "metadata": {},
   "source": [
    "## Importing Libraries"
   ]
  },
  {
   "cell_type": "code",
   "execution_count": 2,
   "id": "6f41898f-f45e-4797-8c34-43df3d5ed4c9",
   "metadata": {
    "tags": []
   },
   "outputs": [
    {
     "name": "stderr",
     "output_type": "stream",
     "text": [
      "C:\\Users\\akash\\AppData\\Local\\Temp\\ipykernel_9896\\543816590.py:7: DeprecationWarning: \n",
      "Pyarrow will become a required dependency of pandas in the next major release of pandas (pandas 3.0),\n",
      "(to allow more performant data types, such as the Arrow string type, and better interoperability with other libraries)\n",
      "but was not found to be installed on your system.\n",
      "If this would cause problems for you,\n",
      "please provide us feedback at https://github.com/pandas-dev/pandas/issues/54466\n",
      "        \n",
      "  import pandas as pd\n"
     ]
    }
   ],
   "source": [
    "import time\n",
    "from pprint import pprint\n",
    "\n",
    "%matplotlib inline\n",
    "import matplotlib\n",
    "import numpy as np\n",
    "import pandas as pd\n",
    "import os"
   ]
  },
  {
   "cell_type": "markdown",
   "id": "c8ae45d9-8277-4055-8a1b-9429b78a8eeb",
   "metadata": {},
   "source": [
    "## Finding all the class folder path"
   ]
  },
  {
   "cell_type": "code",
   "execution_count": 16,
   "id": "80b29041-e91a-4cbe-906d-7434f7f3a12b",
   "metadata": {
    "tags": []
   },
   "outputs": [
    {
     "name": "stdout",
     "output_type": "stream",
     "text": [
      "Directories in dataset_user_akash_1_1_24 : ['dataset_user_akash_1_1_24\\\\eyes_blink\\\\', 'dataset_user_akash_1_1_24\\\\eyes_closed\\\\', 'dataset_user_akash_1_1_24\\\\eyes_closed_motor_imagery\\\\', 'dataset_user_akash_1_1_24\\\\eyes_closed_movement\\\\', 'dataset_user_akash_1_1_24\\\\eyes_opened\\\\', 'dataset_user_akash_1_1_24\\\\eyes_opened_motor_imagery\\\\', 'dataset_user_akash_1_1_24\\\\eyes_opened_movement\\\\', 'dataset_user_akash_1_1_24\\\\physical_motor_activation\\\\']\n"
     ]
    }
   ],
   "source": [
    "def list_class_paths(folder_path):\n",
    "    \"\"\"\n",
    "    Lists all directory paths in the specified folder.\n",
    "\n",
    "    Parameters:\n",
    "    - folder_path (str): The path to the folder.\n",
    "\n",
    "    Returns:\n",
    "    - directory_paths (list): List of full directory paths.\n",
    "    \"\"\"\n",
    "\n",
    "    directory_paths = [os.path.join(folder_path, d)+'\\\\' for d in os.listdir(folder_path) if os.path.isdir(os.path.join(folder_path, d))]\n",
    "    return directory_paths\n",
    "\n",
    "\n",
    "# Path of your dataset\n",
    "dataset_path = 'dataset_user_akash_1_1_24'\n",
    "class_paths = list_class_paths(dataset_path)\n",
    "\n",
    "print(\"Directories in\", dataset_path, \":\", class_paths)\n"
   ]
  },
  {
   "cell_type": "markdown",
   "id": "123f3c13-3c78-4400-8c46-f44b0ed6a319",
   "metadata": {},
   "source": [
    "## combine all the csv into one"
   ]
  },
  {
   "cell_type": "code",
   "execution_count": 34,
   "id": "18cf89a4-bb1b-4443-af71-78778acb09b3",
   "metadata": {
    "tags": []
   },
   "outputs": [],
   "source": [
    "import os\n",
    "import pandas as pd\n",
    "\n",
    "# List of paths where your CSV files are located\n",
    "paths = class_paths\n",
    "# folder = paths\n",
    "\n",
    "for folder in paths:\n",
    "    c_name = folder.split(\"\\\\\")[-2]\n",
    "\n",
    "    # List all files in the folder\n",
    "    file_list = os.listdir(folder)\n",
    "\n",
    "    # Filter out non-CSV files\n",
    "    file_list = [file for file in file_list if file.endswith(\".csv\")]\n",
    "\n",
    "    # Read all CSV files into a list of dataframes\n",
    "    df_list = [pd.read_csv(folder + file, sep='\\t') for file in file_list]\n",
    "\n",
    "    # Adding index to all the dataframe\n",
    "    for df in df_list:\n",
    "        df.columns = [\"count\", \"channel_1\",\"channel_2\",\"channel_3\",\"channel_4\",\"acc_x\",\"acc_y\",\"acc_z\",\"resistance_1\",\"resistance_2\",\"resistance_3\",\"resistance_4\",\"resistance_5\",\"timestamp\",\"marker\"]\n",
    "\n",
    "\n",
    "    # Combine all dataframes into one\n",
    "    combined_df = pd.concat(df_list, ignore_index=False)\n",
    "\n",
    "    # add class name\n",
    "    combined_df['class'] = c_name\n",
    "\n",
    "\n",
    "    # Save the combined dataframe to a new CSV file\n",
    "    combined_df.to_csv(f\"all_classes\\\\combined_{c_name}.csv\", sep=',', index=False)\n",
    "\n",
    "\n",
    "    "
   ]
  },
  {
   "cell_type": "code",
   "execution_count": null,
   "id": "82050532",
   "metadata": {},
   "outputs": [],
   "source": []
  },
  {
   "cell_type": "code",
   "execution_count": null,
   "id": "39e4fa0b",
   "metadata": {},
   "outputs": [],
   "source": []
  },
  {
   "cell_type": "code",
   "execution_count": null,
   "id": "02fd74d9",
   "metadata": {},
   "outputs": [],
   "source": []
  },
  {
   "cell_type": "code",
   "execution_count": null,
   "id": "5b5652f5",
   "metadata": {},
   "outputs": [],
   "source": []
  },
  {
   "cell_type": "code",
   "execution_count": null,
   "id": "2364ea59",
   "metadata": {},
   "outputs": [],
   "source": []
  },
  {
   "cell_type": "code",
   "execution_count": null,
   "id": "c9383871",
   "metadata": {},
   "outputs": [],
   "source": []
  },
  {
   "cell_type": "code",
   "execution_count": null,
   "id": "c4992ef3-6e4d-46e4-a73d-08824e7a3a91",
   "metadata": {},
   "outputs": [],
   "source": []
  },
  {
   "cell_type": "code",
   "execution_count": null,
   "id": "42454971",
   "metadata": {},
   "outputs": [],
   "source": []
  },
  {
   "cell_type": "code",
   "execution_count": null,
   "id": "b6caad34",
   "metadata": {},
   "outputs": [],
   "source": []
  }
 ],
 "metadata": {
  "kernelspec": {
   "display_name": "Python 3 (ipykernel)",
   "language": "python",
   "name": "python3"
  },
  "language_info": {
   "codemirror_mode": {
    "name": "ipython",
    "version": 3
   },
   "file_extension": ".py",
   "mimetype": "text/x-python",
   "name": "python",
   "nbconvert_exporter": "python",
   "pygments_lexer": "ipython3",
   "version": "3.10.2"
  }
 },
 "nbformat": 4,
 "nbformat_minor": 5
}
